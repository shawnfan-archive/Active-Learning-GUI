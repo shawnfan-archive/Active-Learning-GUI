{
 "nbformat": 4,
 "nbformat_minor": 2,
 "metadata": {
  "language_info": {
   "name": "python",
   "codemirror_mode": {
    "name": "ipython",
    "version": 3
   }
  },
  "orig_nbformat": 2,
  "file_extension": ".py",
  "mimetype": "text/x-python",
  "name": "python",
  "npconvert_exporter": "python",
  "pygments_lexer": "ipython3",
  "version": 3
 },
 "cells": [
  {
   "cell_type": "code",
   "execution_count": 1,
   "metadata": {},
   "outputs": [],
   "source": [
    "import numpy as np\n",
    "import os\n",
    "\n",
    "import skimage.io as io\n",
    "import nibabel as nib\n",
    "from skimage.transform import resize\n",
    "from datetime import datetime\n",
    "\n",
    "import pandas as pd\n",
    "\n",
    "import seaborn as sns"
   ]
  },
  {
   "cell_type": "code",
   "execution_count": null,
   "metadata": {},
   "outputs": [],
   "source": []
  },
  {
   "cell_type": "code",
   "execution_count": 48,
   "metadata": {},
   "outputs": [
    {
     "data": {
      "text/plain": "0.0"
     },
     "execution_count": 48,
     "metadata": {},
     "output_type": "execute_result"
    }
   ],
   "source": [
    "np.load('flask_trees/output/2019_11_13_14_10/prediction.npy').max()"
   ]
  },
  {
   "cell_type": "code",
   "execution_count": 44,
   "metadata": {},
   "outputs": [
    {
     "data": {
      "text/plain": "26.552374849789153"
     },
     "execution_count": 44,
     "metadata": {},
     "output_type": "execute_result"
    }
   ],
   "source": [
    "np.median(data)"
   ]
  },
  {
   "cell_type": "code",
   "execution_count": 7,
   "metadata": {},
   "outputs": [],
   "source": [
    "#Load in data (nifti)\n",
    "img = nib.load('flask_trees/data/031923_t1w_deface_stx.nii.gz')\n",
    "# 031923_t1w_deface_stx\n",
    "# 031923_LesionSmooth_stx\n",
    "data = np.array(img.dataobj)\n",
    "data = (data[:,:,111])\n",
    "data = resize(data, (256, 256), mode='reflect', preserve_range=True, order=3)\n",
    "# io.imsave((\"output/input.png\"), data/255)\n"
   ]
  },
  {
   "cell_type": "code",
   "execution_count": 8,
   "metadata": {},
   "outputs": [
    {
     "data": {
      "text/plain": "100.0"
     },
     "execution_count": 8,
     "metadata": {},
     "output_type": "execute_result"
    }
   ],
   "source": [
    "data.max()"
   ]
  },
  {
   "cell_type": "code",
   "execution_count": null,
   "metadata": {},
   "outputs": [],
   "source": []
  },
  {
   "cell_type": "code",
   "execution_count": 9,
   "metadata": {},
   "outputs": [
    {
     "data": {
      "text/plain": "<matplotlib.axes._subplots.AxesSubplot at 0x7f73bd9e2898>"
     },
     "execution_count": 9,
     "metadata": {},
     "output_type": "execute_result"
    },
    {
     "data": {
      "image/png": "[encoded data removed]",
      "image/svg+xml": "<?xml version=\"1.0\" encoding=\"utf-8\" standalone=\"no\"?>\n<!DOCTYPE svg PUBLIC \"-//W3C//DTD SVG 1.1//EN\"\n  \"http://www.w3.org/Graphics/SVG/1.1/DTD/svg11.dtd\">\n<!-- Created with matplotlib (http://matplotlib.org/) -->\n<svg height=\"252pt\" version=\"1.1\" viewBox=\"0 0 381 252\" width=\"381pt\" xmlns=\"http://www.w3.org/2000/svg\" xmlns:xlink=\"http://www.w3.org/1999/xlink\">\n <defs>\n  <style type=\"text/css\">\n*{stroke-linecap:butt;stroke-linejoin:round;}\n  </style>\n </defs>\n <g id=\"figure_1\">\n  <g id=\"patch_1\">\n   <path d=\"M 0 252.018125 \nL 381.965625 252.018125 \nL 381.965625 0 \nL 0 0 \nz\n\"/>\n  </g>\n  <g id=\"axes_1\">\n   <g id=\"patch_2\">\n    <path d=\"M 36.465625 228.14 \nL 371.265625 228.14 \nL 371.265625 10.7 \nL 36.465625 10.7 \nz\n\"/>\n   </g>\n   <g id=\"patch_3\">\n    <path clip-path=\"url(#p03d1c1f6cc)\" d=\"M 82.576089 228.14 \nL 91.239628 228.14 \nL 91.239628 21.054286 \nL 82.576089 21.054286 \nz\n\" style=\"fill:#8dd3c7;opacity:0.4;\"/>\n   </g>\n   <g id=\"patch_4\">\n    <path clip-path=\"url(#p03d1c1f6cc)\" d=\"M 91.239628 228.14 \nL 99.903166 228.14 \nL 99.903166 214.503152 \nL 91.239628 214.503152 \nz\n\" style=\"fill:#8dd3c7;opacity:0.4;\"/>\n   </g>\n   <g id=\"patch_5\">\n    <path clip-path=\"url(#p03d1c1f6cc)\" d=\"M 99.903166 228.14 \nL 108.566704 228.14 \nL 108.566704 222.936265 \nL 99.903166 222.936265 \nz\n\" style=\"fill:#8dd3c7;opacity:0.4;\"/>\n   </g>\n   <g id=\"patch_6\">\n    <path clip-path=\"url(#p03d1c1f6cc)\" d=\"M 108.566704 228.14 \nL 117.230242 228.14 \nL 117.230242 223.441333 \nL 108.566704 223.441333 \nz\n\" style=\"fill:#8dd3c7;opacity:0.4;\"/>\n   </g>\n   <g id=\"patch_7\">\n    <path clip-path=\"url(#p03d1c1f6cc)\" d=\"M 117.230242 228.14 \nL 125.893781 228.14 \nL 125.893781 223.487248 \nL 117.230242 223.487248 \nz\n\" style=\"fill:#8dd3c7;opacity:0.4;\"/>\n   </g>\n   <g id=\"patch_8\">\n    <path clip-path=\"url(#p03d1c1f6cc)\" d=\"M 125.893781 228.14 \nL 134.557319 228.14 \nL 134.557319 223.150536 \nL 125.893781 223.150536 \nz\n\" style=\"fill:#8dd3c7;opacity:0.4;\"/>\n   </g>\n   <g id=\"patch_9\">\n    <path clip-path=\"url(#p03d1c1f6cc)\" d=\"M 134.557319 228.14 \nL 143.220857 228.14 \nL 143.220857 221.206788 \nL 134.557319 221.206788 \nz\n\" style=\"fill:#8dd3c7;opacity:0.4;\"/>\n   </g>\n   <g id=\"patch_10\">\n    <path clip-path=\"url(#p03d1c1f6cc)\" d=\"M 143.220857 228.14 \nL 151.884395 228.14 \nL 151.884395 219.798718 \nL 143.220857 219.798718 \nz\n\" style=\"fill:#8dd3c7;opacity:0.4;\"/>\n   </g>\n   <g id=\"patch_11\">\n    <path clip-path=\"url(#p03d1c1f6cc)\" d=\"M 151.884395 228.14 \nL 160.547934 228.14 \nL 160.547934 220.778245 \nL 151.884395 220.778245 \nz\n\" style=\"fill:#8dd3c7;opacity:0.4;\"/>\n   </g>\n   <g id=\"patch_12\">\n    <path clip-path=\"url(#p03d1c1f6cc)\" d=\"M 160.547934 228.14 \nL 169.211472 228.14 \nL 169.211472 220.954254 \nL 160.547934 220.954254 \nz\n\" style=\"fill:#8dd3c7;opacity:0.4;\"/>\n   </g>\n   <g id=\"patch_13\">\n    <path clip-path=\"url(#p03d1c1f6cc)\" d=\"M 169.211472 228.14 \nL 177.87501 228.14 \nL 177.87501 221.382796 \nL 169.211472 221.382796 \nz\n\" style=\"fill:#8dd3c7;opacity:0.4;\"/>\n   </g>\n   <g id=\"patch_14\">\n    <path clip-path=\"url(#p03d1c1f6cc)\" d=\"M 177.87501 228.14 \nL 186.538548 228.14 \nL 186.538548 221.313923 \nL 177.87501 221.313923 \nz\n\" style=\"fill:#8dd3c7;opacity:0.4;\"/>\n   </g>\n   <g id=\"patch_15\">\n    <path clip-path=\"url(#p03d1c1f6cc)\" d=\"M 186.538548 228.14 \nL 195.202087 228.14 \nL 195.202087 221.283313 \nL 186.538548 221.283313 \nz\n\" style=\"fill:#8dd3c7;opacity:0.4;\"/>\n   </g>\n   <g id=\"patch_16\">\n    <path clip-path=\"url(#p03d1c1f6cc)\" d=\"M 195.202087 228.14 \nL 203.865625 228.14 \nL 203.865625 221.459322 \nL 195.202087 221.459322 \nz\n\" style=\"fill:#8dd3c7;opacity:0.4;\"/>\n   </g>\n   <g id=\"patch_17\">\n    <path clip-path=\"url(#p03d1c1f6cc)\" d=\"M 203.865625 228.14 \nL 212.529163 228.14 \nL 212.529163 220.893033 \nL 203.865625 220.893033 \nz\n\" style=\"fill:#8dd3c7;opacity:0.4;\"/>\n   </g>\n   <g id=\"patch_18\">\n    <path clip-path=\"url(#p03d1c1f6cc)\" d=\"M 212.529163 228.14 \nL 221.192702 228.14 \nL 221.192702 219.515574 \nL 212.529163 219.515574 \nz\n\" style=\"fill:#8dd3c7;opacity:0.4;\"/>\n   </g>\n   <g id=\"patch_19\">\n    <path clip-path=\"url(#p03d1c1f6cc)\" d=\"M 221.192702 228.14 \nL 229.85624 228.14 \nL 229.85624 216.852486 \nL 221.192702 216.852486 \nz\n\" style=\"fill:#8dd3c7;opacity:0.4;\"/>\n   </g>\n   <g id=\"patch_20\">\n    <path clip-path=\"url(#p03d1c1f6cc)\" d=\"M 229.85624 228.14 \nL 238.519778 228.14 \nL 238.519778 214.533762 \nL 229.85624 214.533762 \nz\n\" style=\"fill:#8dd3c7;opacity:0.4;\"/>\n   </g>\n   <g id=\"patch_21\">\n    <path clip-path=\"url(#p03d1c1f6cc)\" d=\"M 238.519778 228.14 \nL 247.183316 228.14 \nL 247.183316 213.799117 \nL 238.519778 213.799117 \nz\n\" style=\"fill:#8dd3c7;opacity:0.4;\"/>\n   </g>\n   <g id=\"patch_22\">\n    <path clip-path=\"url(#p03d1c1f6cc)\" d=\"M 247.183316 228.14 \nL 255.846855 228.14 \nL 255.846855 213.737897 \nL 247.183316 213.737897 \nz\n\" style=\"fill:#8dd3c7;opacity:0.4;\"/>\n   </g>\n   <g id=\"patch_23\">\n    <path clip-path=\"url(#p03d1c1f6cc)\" d=\"M 255.846855 228.14 \nL 264.510393 228.14 \nL 264.510393 213.355269 \nL 255.846855 213.355269 \nz\n\" style=\"fill:#8dd3c7;opacity:0.4;\"/>\n   </g>\n   <g id=\"patch_24\">\n    <path clip-path=\"url(#p03d1c1f6cc)\" d=\"M 264.510393 228.14 \nL 273.173931 228.14 \nL 273.173931 213.339964 \nL 264.510393 213.339964 \nz\n\" style=\"fill:#8dd3c7;opacity:0.4;\"/>\n   </g>\n   <g id=\"patch_25\">\n    <path clip-path=\"url(#p03d1c1f6cc)\" d=\"M 273.173931 228.14 \nL 281.837469 228.14 \nL 281.837469 212.612972 \nL 273.173931 212.612972 \nz\n\" style=\"fill:#8dd3c7;opacity:0.4;\"/>\n   </g>\n   <g id=\"patch_26\">\n    <path clip-path=\"url(#p03d1c1f6cc)\" d=\"M 281.837469 228.14 \nL 290.501008 228.14 \nL 290.501008 211.840064 \nL 281.837469 211.840064 \nz\n\" style=\"fill:#8dd3c7;opacity:0.4;\"/>\n   </g>\n   <g id=\"patch_27\">\n    <path clip-path=\"url(#p03d1c1f6cc)\" d=\"M 290.501008 228.14 \nL 299.164546 228.14 \nL 299.164546 205.825158 \nL 290.501008 205.825158 \nz\n\" style=\"fill:#8dd3c7;opacity:0.4;\"/>\n   </g>\n   <g id=\"patch_28\">\n    <path clip-path=\"url(#p03d1c1f6cc)\" d=\"M 299.164546 228.14 \nL 307.828084 228.14 \nL 307.828084 206.896515 \nL 299.164546 206.896515 \nz\n\" style=\"fill:#8dd3c7;opacity:0.4;\"/>\n   </g>\n   <g id=\"patch_29\">\n    <path clip-path=\"url(#p03d1c1f6cc)\" d=\"M 307.828084 228.14 \nL 316.491622 228.14 \nL 316.491622 214.610288 \nL 307.828084 214.610288 \nz\n\" style=\"fill:#8dd3c7;opacity:0.4;\"/>\n   </g>\n   <g id=\"patch_30\">\n    <path clip-path=\"url(#p03d1c1f6cc)\" d=\"M 316.491622 228.14 \nL 325.155161 228.14 \nL 325.155161 211.840064 \nL 316.491622 211.840064 \nz\n\" style=\"fill:#8dd3c7;opacity:0.4;\"/>\n   </g>\n   <g id=\"matplotlib.axis_1\">\n    <g id=\"xtick_1\">\n     <g id=\"line2d_1\">\n      <defs>\n       <path d=\"M 0 0 \nL 0 3.5 \n\" id=\"mc22e3cded7\" style=\"stroke:#ffffff;stroke-width:0.8;\"/>\n      </defs>\n      <g>\n       <use style=\"fill:#ffffff;stroke:#ffffff;stroke-width:0.8;\" x=\"82.576089\" xlink:href=\"#mc22e3cded7\" y=\"228.14\"/>\n      </g>\n     </g>\n     <g id=\"text_1\">\n      <!-- 0 -->\n      <defs>\n       <path d=\"M 31.78125 66.40625 \nQ 24.171875 66.40625 20.328125 58.90625 \nQ 16.5 51.421875 16.5 36.375 \nQ 16.5 21.390625 20.328125 13.890625 \nQ 24.171875 6.390625 31.78125 6.390625 \nQ 39.453125 6.390625 43.28125 13.890625 \nQ 47.125 21.390625 47.125 36.375 \nQ 47.125 51.421875 43.28125 58.90625 \nQ 39.453125 66.40625 31.78125 66.40625 \nz\nM 31.78125 74.21875 \nQ 44.046875 74.21875 50.515625 64.515625 \nQ 56.984375 54.828125 56.984375 36.375 \nQ 56.984375 17.96875 50.515625 8.265625 \nQ 44.046875 -1.421875 31.78125 -1.421875 \nQ 19.53125 -1.421875 13.0625 8.265625 \nQ 6.59375 17.96875 6.59375 36.375 \nQ 6.59375 54.828125 13.0625 64.515625 \nQ 19.53125 74.21875 31.78125 74.21875 \nz\n\" id=\"DejaVuSans-30\"/>\n      </defs>\n      <g style=\"fill:#ffffff;\" transform=\"translate(79.394839 242.738437)scale(0.1 -0.1)\">\n       <use xlink:href=\"#DejaVuSans-30\"/>\n      </g>\n     </g>\n    </g>\n    <g id=\"xtick_2\">\n     <g id=\"line2d_2\">\n      <g>\n       <use style=\"fill:#ffffff;stroke:#ffffff;stroke-width:0.8;\" x=\"131.091904\" xlink:href=\"#mc22e3cded7\" y=\"228.14\"/>\n      </g>\n     </g>\n     <g id=\"text_2\">\n      <!-- 20 -->\n      <defs>\n       <path d=\"M 19.1875 8.296875 \nL 53.609375 8.296875 \nL 53.609375 0 \nL 7.328125 0 \nL 7.328125 8.296875 \nQ 12.9375 14.109375 22.625 23.890625 \nQ 32.328125 33.6875 34.8125 36.53125 \nQ 39.546875 41.84375 41.421875 45.53125 \nQ 43.3125 49.21875 43.3125 52.78125 \nQ 43.3125 58.59375 39.234375 62.25 \nQ 35.15625 65.921875 28.609375 65.921875 \nQ 23.96875 65.921875 18.8125 64.3125 \nQ 13.671875 62.703125 7.8125 59.421875 \nL 7.8125 69.390625 \nQ 13.765625 71.78125 18.9375 73 \nQ 24.125 74.21875 28.421875 74.21875 \nQ 39.75 74.21875 46.484375 68.546875 \nQ 53.21875 62.890625 53.21875 53.421875 \nQ 53.21875 48.921875 51.53125 44.890625 \nQ 49.859375 40.875 45.40625 35.40625 \nQ 44.1875 33.984375 37.640625 27.21875 \nQ 31.109375 20.453125 19.1875 8.296875 \nz\n\" id=\"DejaVuSans-32\"/>\n      </defs>\n      <g style=\"fill:#ffffff;\" transform=\"translate(124.729404 242.738437)scale(0.1 -0.1)\">\n       <use xlink:href=\"#DejaVuSans-32\"/>\n       <use x=\"63.623047\" xlink:href=\"#DejaVuSans-30\"/>\n      </g>\n     </g>\n    </g>\n    <g id=\"xtick_3\">\n     <g id=\"line2d_3\">\n      <g>\n       <use style=\"fill:#ffffff;stroke:#ffffff;stroke-width:0.8;\" x=\"179.607718\" xlink:href=\"#mc22e3cded7\" y=\"228.14\"/>\n      </g>\n     </g>\n     <g id=\"text_3\">\n      <!-- 40 -->\n      <defs>\n       <path d=\"M 37.796875 64.3125 \nL 12.890625 25.390625 \nL 37.796875 25.390625 \nz\nM 35.203125 72.90625 \nL 47.609375 72.90625 \nL 47.609375 25.390625 \nL 58.015625 25.390625 \nL 58.015625 17.1875 \nL 47.609375 17.1875 \nL 47.609375 0 \nL 37.796875 0 \nL 37.796875 17.1875 \nL 4.890625 17.1875 \nL 4.890625 26.703125 \nz\n\" id=\"DejaVuSans-34\"/>\n      </defs>\n      <g style=\"fill:#ffffff;\" transform=\"translate(173.245218 242.738437)scale(0.1 -0.1)\">\n       <use xlink:href=\"#DejaVuSans-34\"/>\n       <use x=\"63.623047\" xlink:href=\"#DejaVuSans-30\"/>\n      </g>\n     </g>\n    </g>\n    <g id=\"xtick_4\">\n     <g id=\"line2d_4\">\n      <g>\n       <use style=\"fill:#ffffff;stroke:#ffffff;stroke-width:0.8;\" x=\"228.123532\" xlink:href=\"#mc22e3cded7\" y=\"228.14\"/>\n      </g>\n     </g>\n     <g id=\"text_4\">\n      <!-- 60 -->\n      <defs>\n       <path d=\"M 33.015625 40.375 \nQ 26.375 40.375 22.484375 35.828125 \nQ 18.609375 31.296875 18.609375 23.390625 \nQ 18.609375 15.53125 22.484375 10.953125 \nQ 26.375 6.390625 33.015625 6.390625 \nQ 39.65625 6.390625 43.53125 10.953125 \nQ 47.40625 15.53125 47.40625 23.390625 \nQ 47.40625 31.296875 43.53125 35.828125 \nQ 39.65625 40.375 33.015625 40.375 \nz\nM 52.59375 71.296875 \nL 52.59375 62.3125 \nQ 48.875 64.0625 45.09375 64.984375 \nQ 41.3125 65.921875 37.59375 65.921875 \nQ 27.828125 65.921875 22.671875 59.328125 \nQ 17.53125 52.734375 16.796875 39.40625 \nQ 19.671875 43.65625 24.015625 45.921875 \nQ 28.375 48.1875 33.59375 48.1875 \nQ 44.578125 48.1875 50.953125 41.515625 \nQ 57.328125 34.859375 57.328125 23.390625 \nQ 57.328125 12.15625 50.6875 5.359375 \nQ 44.046875 -1.421875 33.015625 -1.421875 \nQ 20.359375 -1.421875 13.671875 8.265625 \nQ 6.984375 17.96875 6.984375 36.375 \nQ 6.984375 53.65625 15.1875 63.9375 \nQ 23.390625 74.21875 37.203125 74.21875 \nQ 40.921875 74.21875 44.703125 73.484375 \nQ 48.484375 72.75 52.59375 71.296875 \nz\n\" id=\"DejaVuSans-36\"/>\n      </defs>\n      <g style=\"fill:#ffffff;\" transform=\"translate(221.761032 242.738437)scale(0.1 -0.1)\">\n       <use xlink:href=\"#DejaVuSans-36\"/>\n       <use x=\"63.623047\" xlink:href=\"#DejaVuSans-30\"/>\n      </g>\n     </g>\n    </g>\n    <g id=\"xtick_5\">\n     <g id=\"line2d_5\">\n      <g>\n       <use style=\"fill:#ffffff;stroke:#ffffff;stroke-width:0.8;\" x=\"276.639346\" xlink:href=\"#mc22e3cded7\" y=\"228.14\"/>\n      </g>\n     </g>\n     <g id=\"text_5\">\n      <!-- 80 -->\n      <defs>\n       <path d=\"M 31.78125 34.625 \nQ 24.75 34.625 20.71875 30.859375 \nQ 16.703125 27.09375 16.703125 20.515625 \nQ 16.703125 13.921875 20.71875 10.15625 \nQ 24.75 6.390625 31.78125 6.390625 \nQ 38.8125 6.390625 42.859375 10.171875 \nQ 46.921875 13.96875 46.921875 20.515625 \nQ 46.921875 27.09375 42.890625 30.859375 \nQ 38.875 34.625 31.78125 34.625 \nz\nM 21.921875 38.8125 \nQ 15.578125 40.375 12.03125 44.71875 \nQ 8.5 49.078125 8.5 55.328125 \nQ 8.5 64.0625 14.71875 69.140625 \nQ 20.953125 74.21875 31.78125 74.21875 \nQ 42.671875 74.21875 48.875 69.140625 \nQ 55.078125 64.0625 55.078125 55.328125 \nQ 55.078125 49.078125 51.53125 44.71875 \nQ 48 40.375 41.703125 38.8125 \nQ 48.828125 37.15625 52.796875 32.3125 \nQ 56.78125 27.484375 56.78125 20.515625 \nQ 56.78125 9.90625 50.3125 4.234375 \nQ 43.84375 -1.421875 31.78125 -1.421875 \nQ 19.734375 -1.421875 13.25 4.234375 \nQ 6.78125 9.90625 6.78125 20.515625 \nQ 6.78125 27.484375 10.78125 32.3125 \nQ 14.796875 37.15625 21.921875 38.8125 \nz\nM 18.3125 54.390625 \nQ 18.3125 48.734375 21.84375 45.5625 \nQ 25.390625 42.390625 31.78125 42.390625 \nQ 38.140625 42.390625 41.71875 45.5625 \nQ 45.3125 48.734375 45.3125 54.390625 \nQ 45.3125 60.0625 41.71875 63.234375 \nQ 38.140625 66.40625 31.78125 66.40625 \nQ 25.390625 66.40625 21.84375 63.234375 \nQ 18.3125 60.0625 18.3125 54.390625 \nz\n\" id=\"DejaVuSans-38\"/>\n      </defs>\n      <g style=\"fill:#ffffff;\" transform=\"translate(270.276846 242.738437)scale(0.1 -0.1)\">\n       <use xlink:href=\"#DejaVuSans-38\"/>\n       <use x=\"63.623047\" xlink:href=\"#DejaVuSans-30\"/>\n      </g>\n     </g>\n    </g>\n    <g id=\"xtick_6\">\n     <g id=\"line2d_6\">\n      <g>\n       <use style=\"fill:#ffffff;stroke:#ffffff;stroke-width:0.8;\" x=\"325.155161\" xlink:href=\"#mc22e3cded7\" y=\"228.14\"/>\n      </g>\n     </g>\n     <g id=\"text_6\">\n      <!-- 100 -->\n      <defs>\n       <path d=\"M 12.40625 8.296875 \nL 28.515625 8.296875 \nL 28.515625 63.921875 \nL 10.984375 60.40625 \nL 10.984375 69.390625 \nL 28.421875 72.90625 \nL 38.28125 72.90625 \nL 38.28125 8.296875 \nL 54.390625 8.296875 \nL 54.390625 0 \nL 12.40625 0 \nz\n\" id=\"DejaVuSans-31\"/>\n      </defs>\n      <g style=\"fill:#ffffff;\" transform=\"translate(315.611411 242.738437)scale(0.1 -0.1)\">\n       <use xlink:href=\"#DejaVuSans-31\"/>\n       <use x=\"63.623047\" xlink:href=\"#DejaVuSans-30\"/>\n       <use x=\"127.246094\" xlink:href=\"#DejaVuSans-30\"/>\n      </g>\n     </g>\n    </g>\n   </g>\n   <g id=\"matplotlib.axis_2\">\n    <g id=\"ytick_1\">\n     <g id=\"line2d_7\">\n      <defs>\n       <path d=\"M 0 0 \nL -3.5 0 \n\" id=\"ma466971a2b\" style=\"stroke:#ffffff;stroke-width:0.8;\"/>\n      </defs>\n      <g>\n       <use style=\"fill:#ffffff;stroke:#ffffff;stroke-width:0.8;\" x=\"36.465625\" xlink:href=\"#ma466971a2b\" y=\"228.14\"/>\n      </g>\n     </g>\n     <g id=\"text_7\">\n      <!-- 0.00 -->\n      <defs>\n       <path d=\"M 10.6875 12.40625 \nL 21 12.40625 \nL 21 0 \nL 10.6875 0 \nz\n\" id=\"DejaVuSans-2e\"/>\n      </defs>\n      <g style=\"fill:#ffffff;\" transform=\"translate(7.2 231.939219)scale(0.1 -0.1)\">\n       <use xlink:href=\"#DejaVuSans-30\"/>\n       <use x=\"63.623047\" xlink:href=\"#DejaVuSans-2e\"/>\n       <use x=\"95.410156\" xlink:href=\"#DejaVuSans-30\"/>\n       <use x=\"159.033203\" xlink:href=\"#DejaVuSans-30\"/>\n      </g>\n     </g>\n    </g>\n    <g id=\"ytick_2\">\n     <g id=\"line2d_8\">\n      <g>\n       <use style=\"fill:#ffffff;stroke:#ffffff;stroke-width:0.8;\" x=\"36.465625\" xlink:href=\"#ma466971a2b\" y=\"192.31731\"/>\n      </g>\n     </g>\n     <g id=\"text_8\">\n      <!-- 0.02 -->\n      <g style=\"fill:#ffffff;\" transform=\"translate(7.2 196.116529)scale(0.1 -0.1)\">\n       <use xlink:href=\"#DejaVuSans-30\"/>\n       <use x=\"63.623047\" xlink:href=\"#DejaVuSans-2e\"/>\n       <use x=\"95.410156\" xlink:href=\"#DejaVuSans-30\"/>\n       <use x=\"159.033203\" xlink:href=\"#DejaVuSans-32\"/>\n      </g>\n     </g>\n    </g>\n    <g id=\"ytick_3\">\n     <g id=\"line2d_9\">\n      <g>\n       <use style=\"fill:#ffffff;stroke:#ffffff;stroke-width:0.8;\" x=\"36.465625\" xlink:href=\"#ma466971a2b\" y=\"156.49462\"/>\n      </g>\n     </g>\n     <g id=\"text_9\">\n      <!-- 0.04 -->\n      <g style=\"fill:#ffffff;\" transform=\"translate(7.2 160.293839)scale(0.1 -0.1)\">\n       <use xlink:href=\"#DejaVuSans-30\"/>\n       <use x=\"63.623047\" xlink:href=\"#DejaVuSans-2e\"/>\n       <use x=\"95.410156\" xlink:href=\"#DejaVuSans-30\"/>\n       <use x=\"159.033203\" xlink:href=\"#DejaVuSans-34\"/>\n      </g>\n     </g>\n    </g>\n    <g id=\"ytick_4\">\n     <g id=\"line2d_10\">\n      <g>\n       <use style=\"fill:#ffffff;stroke:#ffffff;stroke-width:0.8;\" x=\"36.465625\" xlink:href=\"#ma466971a2b\" y=\"120.67193\"/>\n      </g>\n     </g>\n     <g id=\"text_10\">\n      <!-- 0.06 -->\n      <g style=\"fill:#ffffff;\" transform=\"translate(7.2 124.471149)scale(0.1 -0.1)\">\n       <use xlink:href=\"#DejaVuSans-30\"/>\n       <use x=\"63.623047\" xlink:href=\"#DejaVuSans-2e\"/>\n       <use x=\"95.410156\" xlink:href=\"#DejaVuSans-30\"/>\n       <use x=\"159.033203\" xlink:href=\"#DejaVuSans-36\"/>\n      </g>\n     </g>\n    </g>\n    <g id=\"ytick_5\">\n     <g id=\"line2d_11\">\n      <g>\n       <use style=\"fill:#ffffff;stroke:#ffffff;stroke-width:0.8;\" x=\"36.465625\" xlink:href=\"#ma466971a2b\" y=\"84.84924\"/>\n      </g>\n     </g>\n     <g id=\"text_11\">\n      <!-- 0.08 -->\n      <g style=\"fill:#ffffff;\" transform=\"translate(7.2 88.648459)scale(0.1 -0.1)\">\n       <use xlink:href=\"#DejaVuSans-30\"/>\n       <use x=\"63.623047\" xlink:href=\"#DejaVuSans-2e\"/>\n       <use x=\"95.410156\" xlink:href=\"#DejaVuSans-30\"/>\n       <use x=\"159.033203\" xlink:href=\"#DejaVuSans-38\"/>\n      </g>\n     </g>\n    </g>\n    <g id=\"ytick_6\">\n     <g id=\"line2d_12\">\n      <g>\n       <use style=\"fill:#ffffff;stroke:#ffffff;stroke-width:0.8;\" x=\"36.465625\" xlink:href=\"#ma466971a2b\" y=\"49.02655\"/>\n      </g>\n     </g>\n     <g id=\"text_12\">\n      <!-- 0.10 -->\n      <g style=\"fill:#ffffff;\" transform=\"translate(7.2 52.825769)scale(0.1 -0.1)\">\n       <use xlink:href=\"#DejaVuSans-30\"/>\n       <use x=\"63.623047\" xlink:href=\"#DejaVuSans-2e\"/>\n       <use x=\"95.410156\" xlink:href=\"#DejaVuSans-31\"/>\n       <use x=\"159.033203\" xlink:href=\"#DejaVuSans-30\"/>\n      </g>\n     </g>\n    </g>\n    <g id=\"ytick_7\">\n     <g id=\"line2d_13\">\n      <g>\n       <use style=\"fill:#ffffff;stroke:#ffffff;stroke-width:0.8;\" x=\"36.465625\" xlink:href=\"#ma466971a2b\" y=\"13.20386\"/>\n      </g>\n     </g>\n     <g id=\"text_13\">\n      <!-- 0.12 -->\n      <g style=\"fill:#ffffff;\" transform=\"translate(7.2 17.003079)scale(0.1 -0.1)\">\n       <use xlink:href=\"#DejaVuSans-30\"/>\n       <use x=\"63.623047\" xlink:href=\"#DejaVuSans-2e\"/>\n       <use x=\"95.410156\" xlink:href=\"#DejaVuSans-31\"/>\n       <use x=\"159.033203\" xlink:href=\"#DejaVuSans-32\"/>\n      </g>\n     </g>\n    </g>\n   </g>\n   <g id=\"line2d_14\">\n    <path clip-path=\"url(#p03d1c1f6cc)\" d=\"M 51.683807 227.596335 \nL 54.080371 227.08949 \nL 56.476935 226.171941 \nL 58.873499 224.622807 \nL 61.270063 222.166192 \nL 63.666627 218.504679 \nL 66.063191 213.382722 \nL 68.459755 206.67584 \nL 70.856319 198.487668 \nL 78.046012 170.60868 \nL 80.442576 163.290158 \nL 82.83914 158.596057 \nL 85.235704 157.144454 \nL 87.632268 159.085758 \nL 90.028832 164.072899 \nL 92.425396 171.351592 \nL 99.615088 197.191588 \nL 102.011652 204.441277 \nL 104.408216 210.302842 \nL 106.80478 214.749665 \nL 109.201344 217.928771 \nL 111.597908 220.075364 \nL 113.994473 221.442697 \nL 116.391037 222.256869 \nL 118.787601 222.69593 \nL 121.184165 222.88706 \nL 123.580729 222.914173 \nL 128.373857 222.665694 \nL 135.563549 221.900157 \nL 142.753241 221.101334 \nL 147.546369 220.767305 \nL 152.339498 220.654408 \nL 159.52919 220.792217 \nL 173.908574 221.229178 \nL 185.891395 221.301627 \nL 195.477651 221.195843 \nL 202.667343 220.879746 \nL 207.460471 220.439657 \nL 212.253599 219.769314 \nL 217.046727 218.883543 \nL 233.822676 215.371855 \nL 238.615804 214.665463 \nL 243.408932 214.168379 \nL 250.598624 213.727883 \nL 269.771137 212.947456 \nL 274.564265 212.496345 \nL 279.357393 211.786085 \nL 284.150521 210.818233 \nL 291.340213 209.333142 \nL 293.736777 209.021606 \nL 296.133342 208.889487 \nL 298.529906 208.974405 \nL 300.92647 209.294269 \nL 303.323034 209.84469 \nL 305.719598 210.601028 \nL 308.116162 211.524724 \nL 312.90929 213.704152 \nL 320.098982 217.375078 \nL 332.081803 223.679612 \nL 334.478367 224.736254 \nL 336.874931 225.643242 \nL 339.271495 226.383827 \nL 341.668059 226.957502 \nL 344.064623 227.377741 \nL 348.857751 227.848006 \nL 353.650879 227.946334 \nL 356.047443 227.849179 \nL 356.047443 227.849179 \n\" style=\"fill:none;stroke:#8dd3c7;stroke-linecap:square;stroke-width:1.5;\"/>\n   </g>\n   <g id=\"patch_31\">\n    <path d=\"M 36.465625 228.14 \nL 36.465625 10.7 \n\" style=\"fill:none;stroke:#ffffff;stroke-linecap:square;stroke-linejoin:miter;stroke-width:0.8;\"/>\n   </g>\n   <g id=\"patch_32\">\n    <path d=\"M 371.265625 228.14 \nL 371.265625 10.7 \n\" style=\"fill:none;stroke:#ffffff;stroke-linecap:square;stroke-linejoin:miter;stroke-width:0.8;\"/>\n   </g>\n   <g id=\"patch_33\">\n    <path d=\"M 36.465625 228.14 \nL 371.265625 228.14 \n\" style=\"fill:none;stroke:#ffffff;stroke-linecap:square;stroke-linejoin:miter;stroke-width:0.8;\"/>\n   </g>\n   <g id=\"patch_34\">\n    <path d=\"M 36.465625 10.7 \nL 371.265625 10.7 \n\" style=\"fill:none;stroke:#ffffff;stroke-linecap:square;stroke-linejoin:miter;stroke-width:0.8;\"/>\n   </g>\n  </g>\n </g>\n <defs>\n  <clipPath id=\"p03d1c1f6cc\">\n   <rect height=\"217.44\" width=\"334.8\" x=\"36.465625\" y=\"10.7\"/>\n  </clipPath>\n </defs>\n</svg>\n",
      "text/plain": "<matplotlib.figure.Figure at 0x7f73be81bbe0>"
     },
     "metadata": {},
     "output_type": "display_data"
    }
   ],
   "source": [
    "sns.distplot(data.flatten())"
   ]
  },
  {
   "cell_type": "code",
   "execution_count": 43,
   "metadata": {},
   "outputs": [
    {
     "data": {
      "text/plain": "100.0"
     },
     "execution_count": 43,
     "metadata": {},
     "output_type": "execute_result"
    }
   ],
   "source": [
    "data.max()"
   ]
  },
  {
   "cell_type": "code",
   "execution_count": 2,
   "metadata": {},
   "outputs": [],
   "source": [
    "df = pd.read_csv('flask_trees/models/model_tracking.csv', parse_dates=['date'])"
   ]
  },
  {
   "cell_type": "code",
   "execution_count": 3,
   "metadata": {},
   "outputs": [
    {
     "data": {
      "text/html": "<div>\n<style>\n    .dataframe thead tr:only-child th {\n        text-align: right;\n    }\n\n    .dataframe thead th {\n        text-align: left;\n    }\n\n    .dataframe tbody tr th {\n        vertical-align: top;\n    }\n</style>\n<table border=\"1\" class=\"dataframe\">\n  <thead>\n    <tr style=\"text-align: right;\">\n      <th></th>\n      <th>date</th>\n      <th>model_name</th>\n    </tr>\n  </thead>\n  <tbody>\n    <tr>\n      <th>0</th>\n      <td>2019-11-12 15:04:07.593542</td>\n      <td>unet_stroke_ex.hdf5</td>\n    </tr>\n    <tr>\n      <th>1</th>\n      <td>2019-11-12 15:37:06.027827</td>\n      <td>zunet_stroke_ex.hdf5</td>\n    </tr>\n    <tr>\n      <th>2</th>\n      <td>2019-11-12 15:38:30.000000</td>\n      <td>unet_stroke_2019_11_12_15_38.hdf5</td>\n    </tr>\n    <tr>\n      <th>3</th>\n      <td>2019-11-13 11:04:02.000000</td>\n      <td>unet_stroke_2019_11_13_11_4.hdf5</td>\n    </tr>\n    <tr>\n      <th>4</th>\n      <td>2019-11-13 11:07:06.000000</td>\n      <td>unet_stroke_2019_11_13_11_7.hdf5</td>\n    </tr>\n  </tbody>\n</table>\n</div>",
      "text/plain": "                        date                         model_name\n0 2019-11-12 15:04:07.593542                unet_stroke_ex.hdf5\n1 2019-11-12 15:37:06.027827               zunet_stroke_ex.hdf5\n2 2019-11-12 15:38:30.000000  unet_stroke_2019_11_12_15_38.hdf5\n3 2019-11-13 11:04:02.000000   unet_stroke_2019_11_13_11_4.hdf5\n4 2019-11-13 11:07:06.000000   unet_stroke_2019_11_13_11_7.hdf5"
     },
     "execution_count": 3,
     "metadata": {},
     "output_type": "execute_result"
    }
   ],
   "source": [
    "df.head()"
   ]
  },
  {
   "cell_type": "code",
   "execution_count": 7,
   "metadata": {},
   "outputs": [],
   "source": [
    "data = [{'date': 'hi', 'model_name': 'zunet_stroke_ex.hdf5', 'from_scratch': True}]"
   ]
  },
  {
   "cell_type": "code",
   "execution_count": 8,
   "metadata": {},
   "outputs": [
    {
     "data": {
      "text/html": "<div>\n<style>\n    .dataframe thead tr:only-child th {\n        text-align: right;\n    }\n\n    .dataframe thead th {\n        text-align: left;\n    }\n\n    .dataframe tbody tr th {\n        vertical-align: top;\n    }\n</style>\n<table border=\"1\" class=\"dataframe\">\n  <thead>\n    <tr style=\"text-align: right;\">\n      <th></th>\n      <th>date</th>\n      <th>from_scratch</th>\n      <th>model_name</th>\n    </tr>\n  </thead>\n  <tbody>\n    <tr>\n      <th>0</th>\n      <td>2019-11-12 15:04:07.593542</td>\n      <td>NaN</td>\n      <td>unet_stroke_ex.hdf5</td>\n    </tr>\n    <tr>\n      <th>1</th>\n      <td>2019-11-12 15:37:06.027827</td>\n      <td>NaN</td>\n      <td>zunet_stroke_ex.hdf5</td>\n    </tr>\n    <tr>\n      <th>2</th>\n      <td>2019-11-12 15:38:30</td>\n      <td>NaN</td>\n      <td>unet_stroke_2019_11_12_15_38.hdf5</td>\n    </tr>\n    <tr>\n      <th>3</th>\n      <td>2019-11-13 11:04:02</td>\n      <td>NaN</td>\n      <td>unet_stroke_2019_11_13_11_4.hdf5</td>\n    </tr>\n    <tr>\n      <th>4</th>\n      <td>2019-11-13 11:07:06</td>\n      <td>NaN</td>\n      <td>unet_stroke_2019_11_13_11_7.hdf5</td>\n    </tr>\n    <tr>\n      <th>5</th>\n      <td>2019-11-13 11:14:30</td>\n      <td>NaN</td>\n      <td>unet_stroke_2019_11_13_11_14.hdf5</td>\n    </tr>\n    <tr>\n      <th>0</th>\n      <td>hi</td>\n      <td>True</td>\n      <td>zunet_stroke_ex.hdf5</td>\n    </tr>\n  </tbody>\n</table>\n</div>",
      "text/plain": "                         date from_scratch                         model_name\n0  2019-11-12 15:04:07.593542          NaN                unet_stroke_ex.hdf5\n1  2019-11-12 15:37:06.027827          NaN               zunet_stroke_ex.hdf5\n2         2019-11-12 15:38:30          NaN  unet_stroke_2019_11_12_15_38.hdf5\n3         2019-11-13 11:04:02          NaN   unet_stroke_2019_11_13_11_4.hdf5\n4         2019-11-13 11:07:06          NaN   unet_stroke_2019_11_13_11_7.hdf5\n5         2019-11-13 11:14:30          NaN  unet_stroke_2019_11_13_11_14.hdf5\n0                          hi         True               zunet_stroke_ex.hdf5"
     },
     "execution_count": 8,
     "metadata": {},
     "output_type": "execute_result"
    }
   ],
   "source": [
    "df.append(data)"
   ]
  },
  {
   "cell_type": "code",
   "execution_count": 11,
   "metadata": {},
   "outputs": [
    {
     "data": {
      "text/plain": "'unet_stroke_2019_11_12_15_38.hdf5'"
     },
     "execution_count": 11,
     "metadata": {},
     "output_type": "execute_result"
    }
   ],
   "source": [
    "df.sort_values('date', ascending=False).iloc[0]['model_name']"
   ]
  },
  {
   "cell_type": "code",
   "execution_count": null,
   "metadata": {},
   "outputs": [],
   "source": [
    "df.append(data)"
   ]
  },
  {
   "cell_type": "code",
   "execution_count": null,
   "metadata": {},
   "outputs": [],
   "source": []
  },
  {
   "cell_type": "code",
   "execution_count": 34,
   "metadata": {},
   "outputs": [],
   "source": [
    "now = datetime.now()\n"
   ]
  },
  {
   "cell_type": "code",
   "execution_count": 43,
   "metadata": {},
   "outputs": [],
   "source": [
    "data = [{'date': now, 'model_name': 'zunet_stroke_ex.hdf5'}]"
   ]
  },
  {
   "cell_type": "code",
   "execution_count": 46,
   "metadata": {},
   "outputs": [],
   "source": [
    "ex = pd.read_csv('flask_trees/models/model_tracking.csv')\n",
    "ex = ex.append(data)\n",
    "# ex.reset_index(inplace=True)"
   ]
  },
  {
   "cell_type": "code",
   "execution_count": 47,
   "metadata": {},
   "outputs": [
    {
     "data": {
      "text/html": "<div>\n<style>\n    .dataframe thead tr:only-child th {\n        text-align: right;\n    }\n\n    .dataframe thead th {\n        text-align: left;\n    }\n\n    .dataframe tbody tr th {\n        vertical-align: top;\n    }\n</style>\n<table border=\"1\" class=\"dataframe\">\n  <thead>\n    <tr style=\"text-align: right;\">\n      <th></th>\n      <th>date</th>\n      <th>model_name</th>\n    </tr>\n  </thead>\n  <tbody>\n    <tr>\n      <th>0</th>\n      <td>2019-11-12 15:04:07.593542</td>\n      <td>unet_stroke_ex.hdf5</td>\n    </tr>\n    <tr>\n      <th>0</th>\n      <td>2019-11-12 15:37:06.027827</td>\n      <td>zunet_stroke_ex.hdf5</td>\n    </tr>\n  </tbody>\n</table>\n</div>",
      "text/plain": "                         date            model_name\n0  2019-11-12 15:04:07.593542   unet_stroke_ex.hdf5\n0  2019-11-12 15:37:06.027827  zunet_stroke_ex.hdf5"
     },
     "execution_count": 47,
     "metadata": {},
     "output_type": "execute_result"
    }
   ],
   "source": [
    "ex"
   ]
  },
  {
   "cell_type": "code",
   "execution_count": 48,
   "metadata": {},
   "outputs": [],
   "source": [
    "ex.to_csv('flask_trees/models/model_tracking.csv', index=False)"
   ]
  },
  {
   "cell_type": "code",
   "execution_count": 7,
   "metadata": {},
   "outputs": [
    {
     "data": {
      "text/plain": "['prototype',\n '.DS_Store',\n 'app.py',\n 'image.py',\n 'flask_trees',\n 'README.md',\n 'env',\n '.vscode',\n '.git']"
     },
     "execution_count": 7,
     "metadata": {},
     "output_type": "execute_result"
    }
   ],
   "source": [
    "os.listdir()"
   ]
  },
  {
   "cell_type": "code",
   "execution_count": 13,
   "metadata": {},
   "outputs": [
    {
     "name": "stderr",
     "output_type": "stream",
     "text": "/home/dpena/anaconda3/lib/python3.6/site-packages/skimage/util/dtype.py:122: UserWarning: Possible precision loss when converting from float64 to uint16\n  .format(dtypeobj_in, dtypeobj_out))\n"
    }
   ],
   "source": [
    "# #Load in data (npy)\n",
    "data = np.load('flask_trees/data/test1_20191109.npy', allow_pickle=True)\n",
    "data = resize(data, (256, 256), mode='reflect', preserve_range=True, order=3)\n",
    "io.imsave((\"flask_trees/output/input1_shawn.png\"), data)"
   ]
  },
  {
   "cell_type": "code",
   "execution_count": 11,
   "metadata": {},
   "outputs": [
    {
     "data": {
      "text/plain": "array([[ 1.,  1.,  1., ...,  1.,  1.,  1.],\n       [ 1.,  1.,  1., ...,  1.,  1.,  1.],\n       [ 1.,  1.,  1., ...,  1.,  1.,  1.],\n       ..., \n       [ 1.,  1.,  1., ...,  1.,  1.,  1.],\n       [ 1.,  1.,  1., ...,  1.,  1.,  1.],\n       [ 1.,  1.,  1., ...,  1.,  1.,  1.]])"
     },
     "execution_count": 11,
     "metadata": {},
     "output_type": "execute_result"
    }
   ],
   "source": [
    "1 - data"
   ]
  },
  {
   "cell_type": "code",
   "execution_count": 2,
   "metadata": {},
   "outputs": [],
   "source": [
    "pred = np.load(\"/data/data-dpena/Active-Learning-GUI/flask_trees/output/data_prediction.npy\")\n",
    "\n",
    "pred = pred[0,:,:,0]"
   ]
  },
  {
   "cell_type": "code",
   "execution_count": 3,
   "metadata": {},
   "outputs": [
    {
     "name": "stderr",
     "output_type": "stream",
     "text": "/home/dpena/anaconda3/lib/python3.6/site-packages/skimage/util/dtype.py:122: UserWarning: Possible precision loss when converting from float32 to uint16\n  .format(dtypeobj_in, dtypeobj_out))\n"
    }
   ],
   "source": [
    "#Prediction as png\n",
    "io.imsave((\"flask_trees/output/pred.png\"),pred)"
   ]
  },
  {
   "cell_type": "code",
   "execution_count": 4,
   "metadata": {},
   "outputs": [
    {
     "name": "stderr",
     "output_type": "stream",
     "text": "/home/dpena/anaconda3/lib/python3.6/site-packages/skimage/util/dtype.py:122: UserWarning: Possible precision loss when converting from float64 to uint16\n  .format(dtypeobj_in, dtypeobj_out))\n"
    }
   ],
   "source": [
    "#Ground truth\n",
    "img = nib.load('flask_trees/data/031923_LesionSmooth_stx.nii.gz')\n",
    "data = np.array(img.dataobj)\n",
    "data = (data[:,:,120])\n",
    "data = resize(data, (256, 256), mode='reflect', preserve_range=True, order=3)\n",
    "io.imsave((\"flask_trees/output/ground_truth.png\"),data/255)"
   ]
  },
  {
   "cell_type": "code",
   "execution_count": null,
   "metadata": {},
   "outputs": [],
   "source": []
  }
 ]
}