{
 "cells": [
  {
   "cell_type": "code",
   "execution_count": 24,
   "metadata": {},
   "outputs": [],
   "source": [
    "#Imports\n",
    "import sqlite3\n",
    "from sqlite3 import Error\n",
    "\n",
    "import pandas as pd\n",
    "from datetime import datetime"
   ]
  },
  {
   "cell_type": "markdown",
   "metadata": {},
   "source": [
    "## Create Database and Tables"
   ]
  },
  {
   "cell_type": "code",
   "execution_count": 25,
   "metadata": {},
   "outputs": [],
   "source": [
    "\n",
    "def create_connection(db_file):\n",
    "    \"\"\" create a database connection to the SQLite database\n",
    "        specified by db_file\n",
    "    :param db_file: database file\n",
    "    :return: Connection object or None\n",
    "    \"\"\"\n",
    "    conn = None\n",
    "    try:\n",
    "        conn = sqlite3.connect(db_file)\n",
    "        return conn\n",
    "    except Error as e:\n",
    "        print(e)\n",
    " \n",
    "    return conn\n",
    " \n",
    "\n",
    "def create_table(conn, create_table_sql):\n",
    "    \"\"\" create a table from the create_table_sql statement\n",
    "    :param conn: Connection object\n",
    "    :param create_table_sql: a CREATE TABLE statement\n",
    "    :return:\n",
    "    \"\"\"\n",
    "    try:\n",
    "        c = conn.cursor()\n",
    "        c.execute(create_table_sql)\n",
    "    except Error as e:\n",
    "        print(e)\n",
    "\n",
    "def main():\n",
    "    database = r\"active_learning_20191210.db\"\n",
    " \n",
    "    sql_create_training_log = \"\"\" CREATE TABLE IF NOT EXISTS training_log (\n",
    "                                        training_id integer PRIMARY KEY,\n",
    "                                        training_time datetime,\n",
    "                                        file_path string,\n",
    "                                        from_scratch boolean\n",
    "                                    ); \"\"\"\n",
    " \n",
    "    sql_create_image_log = \"\"\" CREATE TABLE IF NOT EXISTS image_log (\n",
    "                                        image_id integer PRIMARY KEY,\n",
    "                                        file_path string,\n",
    "                                        time_uploaded datetime\n",
    "                                    ); \"\"\"\n",
    " \n",
    "    sql_create_map_log = \"\"\" CREATE TABLE IF NOT EXISTS map_log (\n",
    "                                        map_id integer PRIMARY KEY,\n",
    "                                        file_path string,\n",
    "                                        time_created datetime,\n",
    "                                        is_manual boolean\n",
    "                                    ); \"\"\"\n",
    " \n",
    "    sql_create_train_to_image_log = \"\"\"CREATE TABLE IF NOT EXISTS train_to_image_log (\n",
    "                                    entry_id integer PRIMARY KEY,\n",
    "                                    image_id integer,\n",
    "                                    training_id integer,\n",
    "                                    FOREIGN KEY (image_id) REFERENCES image_log (image_id),\n",
    "                                    FOREIGN KEY (training_id) REFERENCES training_log (training_id)\n",
    "                                );\"\"\"\n",
    "    \n",
    "    sql_create_image_to_map_log = \"\"\"CREATE TABLE IF NOT EXISTS image_to_map_log (\n",
    "                                    entry_id integer PRIMARY KEY,\n",
    "                                    image_id integer,\n",
    "                                    map_id integer,\n",
    "                                    FOREIGN KEY (image_id) REFERENCES image_log (image_id),\n",
    "                                    FOREIGN KEY (map_id) REFERENCES map_log (map_id)\n",
    "                                );\"\"\"\n",
    " \n",
    "    # create a database connection\n",
    "    conn = create_connection(database)\n",
    " \n",
    "    # create tables\n",
    "    if conn is not None:\n",
    "        # create training_log\n",
    "        create_table(conn, sql_create_training_log)\n",
    " \n",
    "        # create image_log\n",
    "        create_table(conn, sql_create_image_log)\n",
    "        \n",
    "        # create map_log\n",
    "        create_table(conn, sql_create_map_log)\n",
    "        \n",
    "        # create train_to_image_log\n",
    "        create_table(conn, sql_create_train_to_image_log)\n",
    "        \n",
    "        # create image_to_map_log\n",
    "        create_table(conn, sql_create_image_to_map_log)\n",
    "    else:\n",
    "        print(\"Error! cannot create the database connection.\")\n",
    " \n"
   ]
  },
  {
   "cell_type": "code",
   "execution_count": 26,
   "metadata": {},
   "outputs": [],
   "source": [
    "main()"
   ]
  },
  {
   "cell_type": "code",
   "execution_count": 27,
   "metadata": {},
   "outputs": [],
   "source": [
    "#Add entries in image log\n",
    "\n",
    "con = sqlite3.connect(\"active_learning_20191210.db\")\n",
    "\n",
    "cur = con.cursor()\n",
    "\n",
    "now = datetime.now()\n",
    "\n",
    "cur_date = str(now.year) + '_' + str(now.month) + '_' + str(\n",
    "            now.day) + '_' + str(now.hour) + '_' + str(now.minute)\n",
    "\n",
    "for slice_id in range(100, 106):\n",
    "    \n",
    "    file_path = \"../prototype/assets/Site6_031923___\" + str(slice_id)\n",
    "    image_log_entry = (file_path, cur_date)\n",
    "    cur.execute('INSERT INTO image_log (file_path, time_uploaded) VALUES' + str(image_log_entry))\n",
    "\n",
    "con.commit()\n",
    "\n",
    "con.close()"
   ]
  },
  {
   "cell_type": "code",
   "execution_count": null,
   "metadata": {},
   "outputs": [],
   "source": []
  },
  {
   "cell_type": "code",
   "execution_count": 53,
   "metadata": {},
   "outputs": [
    {
     "name": "stdout",
     "output_type": "stream",
     "text": [
      "   image_id                               file_path   time_uploaded\n",
      "0         1  ../prototype/assets/Site6_031923___100  2020_1_24_14_7\n",
      "1         2  ../prototype/assets/Site6_031923___101  2020_1_24_14_7\n",
      "2         3  ../prototype/assets/Site6_031923___102  2020_1_24_14_7\n",
      "3         4  ../prototype/assets/Site6_031923___103  2020_1_24_14_7\n",
      "4         5  ../prototype/assets/Site6_031923___104  2020_1_24_14_7\n",
      "5         6  ../prototype/assets/Site6_031923___105  2020_1_24_14_7\n"
     ]
    }
   ],
   "source": [
    "# Read sqlite query results into a pandas DataFrame\n",
    "con = sqlite3.connect(\"active_learning_20191210.db\")\n",
    "df = pd.read_sql_query(\"SELECT * from image_log\", con)\n",
    "\n",
    "# Verify that result of SQL query is stored in the dataframe\n",
    "print(df)\n",
    "\n",
    "con.close()"
   ]
  },
  {
   "cell_type": "code",
   "execution_count": 54,
   "metadata": {},
   "outputs": [
    {
     "name": "stdout",
     "output_type": "stream",
     "text": [
      "     map_id                                file_path     time_created  \\\n",
      "0         1  data/train/label/2020_1_24_14_11_1.jpeg  2020_1_24_14_11   \n",
      "1         2  data/train/label/2020_1_24_14_11_2.jpeg  2020_1_24_14_11   \n",
      "2         3  data/train/label/2020_1_24_14_11_3.jpeg  2020_1_24_14_11   \n",
      "3         4  data/train/label/2020_1_24_14_11_4.jpeg  2020_1_24_14_11   \n",
      "4         5  data/train/label/2020_1_24_14_11_5.jpeg  2020_1_24_14_11   \n",
      "..      ...                                      ...              ...   \n",
      "241     242  output/2020_1_30_14_22/2_prediction.npy  2020_1_30_14_22   \n",
      "242     243  output/2020_1_30_14_22/3_prediction.npy  2020_1_30_14_22   \n",
      "243     244  output/2020_1_30_14_22/4_prediction.npy  2020_1_30_14_22   \n",
      "244     245  output/2020_1_30_14_22/5_prediction.npy  2020_1_30_14_22   \n",
      "245     246  output/2020_1_30_14_22/6_prediction.npy  2020_1_30_14_22   \n",
      "\n",
      "     is_manual  \n",
      "0            1  \n",
      "1            1  \n",
      "2            1  \n",
      "3            1  \n",
      "4            1  \n",
      "..         ...  \n",
      "241          0  \n",
      "242          0  \n",
      "243          0  \n",
      "244          0  \n",
      "245          0  \n",
      "\n",
      "[246 rows x 4 columns]\n"
     ]
    }
   ],
   "source": [
    "con = sqlite3.connect(\"active_learning_20191210.db\")\n",
    "df = pd.read_sql_query(\"SELECT * from map_log\", con)\n",
    "\n",
    "# Verify that result of SQL query is stored in the dataframe\n",
    "print(df)\n",
    "\n",
    "con.close()"
   ]
  },
  {
   "cell_type": "code",
   "execution_count": 55,
   "metadata": {},
   "outputs": [
    {
     "name": "stdout",
     "output_type": "stream",
     "text": [
      "     entry_id  image_id  map_id\n",
      "0           1         1       1\n",
      "1           2         2       2\n",
      "2           3         3       3\n",
      "3           4         4       4\n",
      "4           5         5       5\n",
      "..        ...       ...     ...\n",
      "241       242         2     242\n",
      "242       243         3     243\n",
      "243       244         4     244\n",
      "244       245         5     245\n",
      "245       246         6     246\n",
      "\n",
      "[246 rows x 3 columns]\n"
     ]
    }
   ],
   "source": [
    "con = sqlite3.connect(\"active_learning_20191210.db\")\n",
    "df = pd.read_sql_query(\"SELECT * from image_to_map_log\", con)\n",
    "\n",
    "# Verify that result of SQL query is stored in the dataframe\n",
    "print(df)\n",
    "\n",
    "con.close()"
   ]
  },
  {
   "cell_type": "code",
   "execution_count": 56,
   "metadata": {},
   "outputs": [
    {
     "name": "stdout",
     "output_type": "stream",
     "text": [
      "   training_id                  training_time  \\\n",
      "0            1  Fri, 24 Jan 2020 14:12:19 GMT   \n",
      "1            2  Mon, 27 Jan 2020 14:42:26 GMT   \n",
      "2            3  Mon, 27 Jan 2020 14:55:51 GMT   \n",
      "3            4  Mon, 27 Jan 2020 15:13:02 GMT   \n",
      "4            5  Mon, 27 Jan 2020 15:23:57 GMT   \n",
      "\n",
      "                                      file_path  from_scratch  \n",
      "0  models/unet_stroke_2020_1_24_14_12_init.hdf5             1  \n",
      "1  models/unet_stroke_2020_1_27_14_42_init.hdf5             1  \n",
      "2  models/unet_stroke_2020_1_27_14_55_init.hdf5             1  \n",
      "3  models/unet_stroke_2020_1_27_15_13_init.hdf5             1  \n",
      "4  models/unet_stroke_2020_1_27_15_23_init.hdf5             1  \n"
     ]
    }
   ],
   "source": [
    "# Read sqlite query results into a pandas DataFrame\n",
    "con = sqlite3.connect(\"active_learning_20191210.db\")\n",
    "df = pd.read_sql_query(\"SELECT * from training_log\", con)\n",
    "\n",
    "# Verify that result of SQL query is stored in the dataframe\n",
    "print(df.head())\n",
    "\n",
    "con.close()"
   ]
  },
  {
   "cell_type": "code",
   "execution_count": 57,
   "metadata": {},
   "outputs": [
    {
     "name": "stdout",
     "output_type": "stream",
     "text": [
      "     entry_id  image_id  training_id\n",
      "0           1         1            1\n",
      "1           2         2            1\n",
      "2           3         3            1\n",
      "3           4         4            1\n",
      "4           5         5            1\n",
      "..        ...       ...          ...\n",
      "103       104         2           18\n",
      "104       105         3           18\n",
      "105       106         4           18\n",
      "106       107         5           18\n",
      "107       108         6           18\n",
      "\n",
      "[108 rows x 3 columns]\n"
     ]
    }
   ],
   "source": [
    "con = sqlite3.connect(\"active_learning_20191210.db\")\n",
    "\n",
    "df = pd.read_sql_query(\"SELECT * from train_to_image_log\", con)\n",
    "\n",
    "# Verify that result of SQL query is stored in the dataframe\n",
    "print(df)\n",
    "\n",
    "con.close()"
   ]
  },
  {
   "cell_type": "code",
   "execution_count": 22,
   "metadata": {},
   "outputs": [
    {
     "name": "stdout",
     "output_type": "stream",
     "text": [
      "[('training_log',), ('image_log',), ('map_log',), ('train_to_image_log',), ('image_to_map_log',)]\n"
     ]
    }
   ],
   "source": [
    "#Look at all tables\n",
    "con = sqlite3.connect('active_learning_20191210.db')\n",
    "cursor = con.cursor()\n",
    "cursor.execute(\"SELECT name FROM sqlite_master WHERE type='table';\")\n",
    "print(cursor.fetchall())"
   ]
  },
  {
   "cell_type": "markdown",
   "metadata": {},
   "source": [
    "## Input into tables"
   ]
  },
  {
   "cell_type": "code",
   "execution_count": 77,
   "metadata": {},
   "outputs": [],
   "source": [
    "#Function to prep the columns for the SQL query\n",
    "def prep_cols(cols):\n",
    "    \n",
    "    #init string\n",
    "    final_str = ''\n",
    "    \n",
    "    #loop through columns and construct string\n",
    "    for i in cols:\n",
    "        final_str = final_str + i + ','\n",
    "        \n",
    "    #return\n",
    "    return final_str[:-1]"
   ]
  },
  {
   "cell_type": "code",
   "execution_count": 86,
   "metadata": {},
   "outputs": [],
   "source": [
    "def create_entry(conn, table_name, task):\n",
    "    \"\"\"\n",
    "    Create a new entry\n",
    "    :param conn:\n",
    "    :param task:\n",
    "    :return:\n",
    "    \"\"\"\n",
    "    \n",
    "    #Read in table\n",
    "    df = pd.read_sql_query(\"SELECT * from \" + db_name + \" \", conn)\n",
    "\n",
    "    #get list of columns\n",
    "    columns = list(df.columns)\n",
    "\n",
    "    #Construct sql query\n",
    "    sql = ' INSERT INTO ' + db_name + '(' + prep_cols(columns) + ')'  + ' VALUES(?, ?, ?, ?) '\n",
    "\n",
    "#     sql = ''' INSERT INTO training_log(training_id, training_time, file_path, from_scratch) VALUES(?, ?, ?, ?) '''\n",
    "\n",
    "    #execute\n",
    "    cur = conn.cursor()\n",
    "    cur.execute(sql, task)\n",
    "    return cur.lastrowid\n",
    "\n",
    "\n",
    "def main():\n",
    "    \n",
    "    #Database name\n",
    "    database = \"active_learning_20191210.db\"\n",
    " \n",
    "    # create a database connection\n",
    "    conn = create_connection(database)\n",
    "    with conn:\n",
    "        \n",
    "        # Specific table and inputs\n",
    "        table_name = 'training_log'\n",
    "        task_1 = ('10002', '12/10/2019', 'example/file/path', True)\n",
    " \n",
    "        # create entry\n",
    "        create_entry(conn, table_name, task_1)\n",
    "        \n",
    "    conn.close()\n"
   ]
  },
  {
   "cell_type": "code",
   "execution_count": 87,
   "metadata": {},
   "outputs": [],
   "source": [
    "main()"
   ]
  },
  {
   "cell_type": "code",
   "execution_count": 88,
   "metadata": {},
   "outputs": [
    {
     "name": "stdout",
     "output_type": "stream",
     "text": [
      "   training_id training_time          file_path  from_scratch\n",
      "0          100    12/10/2019  example/filt/path             1\n",
      "1        10000    12/10/2019  example/file/path             1\n",
      "2        10001    12/10/2019  example/file/path             1\n",
      "3        10002    12/10/2019  example/file/path             1\n"
     ]
    }
   ],
   "source": [
    "# Read sqlite query results into a pandas DataFrame\n",
    "con = sqlite3.connect(\"active_learning_20191210.db\")\n",
    "df = pd.read_sql_query(\"SELECT * from training_log\", con)\n",
    "\n",
    "# Verify that result of SQL query is stored in the dataframe\n",
    "print(df.head())\n",
    "\n",
    "con.close()"
   ]
  },
  {
   "cell_type": "markdown",
   "metadata": {},
   "source": [
    "## Delete Row"
   ]
  },
  {
   "cell_type": "code",
   "execution_count": 41,
   "metadata": {},
   "outputs": [
    {
     "name": "stdout",
     "output_type": "stream",
     "text": [
      "Connected to SQLite\n",
      "Record deleted successfully \n",
      "the sqlite connection is closed\n"
     ]
    }
   ],
   "source": [
    "def deleteRecord():\n",
    "    try:\n",
    "        con = sqlite3.connect('active_learning_20191210.db')\n",
    "        cursor = con.cursor()\n",
    "        print(\"Connected to SQLite\")\n",
    "\n",
    "        # Deleting single record now\n",
    "        sql_delete_query = \"\"\"DELETE from training_log where training_id = 0\"\"\"\n",
    "        cursor.execute(sql_delete_query)\n",
    "        con.commit()\n",
    "        print(\"Record deleted successfully \")\n",
    "        cursor.close()\n",
    "\n",
    "    except sqlite3.Error as error:\n",
    "        print(\"Failed to delete record from sqlite table\", error)\n",
    "    finally:\n",
    "        if (con):\n",
    "            con.close()\n",
    "            print(\"the sqlite connection is closed\")\n",
    "\n",
    "deleteRecord()"
   ]
  },
  {
   "cell_type": "code",
   "execution_count": 42,
   "metadata": {},
   "outputs": [
    {
     "name": "stdout",
     "output_type": "stream",
     "text": [
      "   training_id training_time          file_path  from_scratch\n",
      "0          100    12/10/2019  example/filt/path             1\n",
      "1        10000    12/10/2019  example/file/path             1\n"
     ]
    }
   ],
   "source": [
    "# Read sqlite query results into a pandas DataFrame\n",
    "con = sqlite3.connect(\"active_learning_20191210.db\")\n",
    "df = pd.read_sql_query(\"SELECT * from training_log\", con)\n",
    "\n",
    "# Verify that result of SQL query is stored in the dataframe\n",
    "print(df.head())\n",
    "\n",
    "con.close()"
   ]
  },
  {
   "cell_type": "code",
   "execution_count": null,
   "metadata": {},
   "outputs": [],
   "source": []
  }
 ],
 "metadata": {
  "kernelspec": {
   "display_name": "Python 3",
   "language": "python",
   "name": "python3"
  },
  "language_info": {
   "codemirror_mode": {
    "name": "ipython",
    "version": 3
   },
   "file_extension": ".py",
   "mimetype": "text/x-python",
   "name": "python",
   "nbconvert_exporter": "python",
   "pygments_lexer": "ipython3",
   "version": "3.7.4"
  }
 },
 "nbformat": 4,
 "nbformat_minor": 4
}
