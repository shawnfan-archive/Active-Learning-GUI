{
 "cells": [
  {
   "cell_type": "code",
   "execution_count": 24,
   "metadata": {},
   "outputs": [],
   "source": [
    "#Imports\n",
    "import sqlite3\n",
    "from sqlite3 import Error\n",
    "\n",
    "import pandas as pd\n",
    "from datetime import datetime"
   ]
  },
  {
   "cell_type": "markdown",
   "metadata": {},
   "source": [
    "## Create Database and Tables"
   ]
  },
  {
   "cell_type": "code",
   "execution_count": 25,
   "metadata": {},
   "outputs": [],
   "source": [
    "\n",
    "def create_connection(db_file):\n",
    "    \"\"\" create a database connection to the SQLite database\n",
    "        specified by db_file\n",
    "    :param db_file: database file\n",
    "    :return: Connection object or None\n",
    "    \"\"\"\n",
    "    conn = None\n",
    "    try:\n",
    "        conn = sqlite3.connect(db_file)\n",
    "        return conn\n",
    "    except Error as e:\n",
    "        print(e)\n",
    " \n",
    "    return conn\n",
    " \n",
    "\n",
    "def create_table(conn, create_table_sql):\n",
    "    \"\"\" create a table from the create_table_sql statement\n",
    "    :param conn: Connection object\n",
    "    :param create_table_sql: a CREATE TABLE statement\n",
    "    :return:\n",
    "    \"\"\"\n",
    "    try:\n",
    "        c = conn.cursor()\n",
    "        c.execute(create_table_sql)\n",
    "    except Error as e:\n",
    "        print(e)\n",
    "\n",
    "def main():\n",
    "    database = r\"active_learning_20191210.db\"\n",
    " \n",
    "    sql_create_training_log = \"\"\" CREATE TABLE IF NOT EXISTS training_log (\n",
    "                                        training_id integer PRIMARY KEY,\n",
    "                                        training_time datetime,\n",
    "                                        file_path string,\n",
    "                                        from_scratch boolean\n",
    "                                    ); \"\"\"\n",
    " \n",
    "    sql_create_image_log = \"\"\" CREATE TABLE IF NOT EXISTS image_log (\n",
    "                                        image_id integer PRIMARY KEY,\n",
    "                                        file_path string,\n",
    "                                        time_uploaded datetime\n",
    "                                    ); \"\"\"\n",
    " \n",
    "    sql_create_map_log = \"\"\" CREATE TABLE IF NOT EXISTS map_log (\n",
    "                                        map_id integer PRIMARY KEY,\n",
    "                                        file_path string,\n",
    "                                        time_created datetime,\n",
    "                                        is_manual boolean\n",
    "                                    ); \"\"\"\n",
    " \n",
    "    sql_create_train_to_image_log = \"\"\"CREATE TABLE IF NOT EXISTS train_to_image_log (\n",
    "                                    entry_id integer PRIMARY KEY,\n",
    "                                    image_id integer,\n",
    "                                    training_id integer,\n",
    "                                    FOREIGN KEY (image_id) REFERENCES image_log (image_id),\n",
    "                                    FOREIGN KEY (training_id) REFERENCES training_log (training_id)\n",
    "                                );\"\"\"\n",
    "    \n",
    "    sql_create_image_to_map_log = \"\"\"CREATE TABLE IF NOT EXISTS image_to_map_log (\n",
    "                                    entry_id integer PRIMARY KEY,\n",
    "                                    image_id integer,\n",
    "                                    map_id integer,\n",
    "                                    FOREIGN KEY (image_id) REFERENCES image_log (image_id),\n",
    "                                    FOREIGN KEY (map_id) REFERENCES map_log (map_id)\n",
    "                                );\"\"\"\n",
    " \n",
    "    # create a database connection\n",
    "    conn = create_connection(database)\n",
    " \n",
    "    # create tables\n",
    "    if conn is not None:\n",
    "        # create training_log\n",
    "        create_table(conn, sql_create_training_log)\n",
    " \n",
    "        # create image_log\n",
    "        create_table(conn, sql_create_image_log)\n",
    "        \n",
    "        # create map_log\n",
    "        create_table(conn, sql_create_map_log)\n",
    "        \n",
    "        # create train_to_image_log\n",
    "        create_table(conn, sql_create_train_to_image_log)\n",
    "        \n",
    "        # create image_to_map_log\n",
    "        create_table(conn, sql_create_image_to_map_log)\n",
    "    else:\n",
    "        print(\"Error! cannot create the database connection.\")\n",
    " \n"
   ]
  },
  {
   "cell_type": "code",
   "execution_count": 26,
   "metadata": {},
   "outputs": [],
   "source": [
    "main()"
   ]
  },
  {
   "cell_type": "code",
   "execution_count": 27,
   "metadata": {},
   "outputs": [],
   "source": [
    "#Add entries in image log\n",
    "\n",
    "con = sqlite3.connect(\"active_learning_20191210.db\")\n",
    "\n",
    "cur = con.cursor()\n",
    "\n",
    "now = datetime.now()\n",
    "\n",
    "cur_date = str(now.year) + '_' + str(now.month) + '_' + str(\n",
    "            now.day) + '_' + str(now.hour) + '_' + str(now.minute)\n",
    "\n",
    "for slice_id in range(100, 106):\n",
    "    \n",
    "    file_path = \"../prototype/assets/Site6_031923___\" + str(slice_id)\n",
    "    image_log_entry = (file_path, cur_date)\n",
    "    cur.execute('INSERT INTO image_log (file_path, time_uploaded) VALUES' + str(image_log_entry))\n",
    "\n",
    "con.commit()\n",
    "\n",
    "con.close()"
   ]
  },
  {
   "cell_type": "code",
   "execution_count": null,
   "metadata": {},
   "outputs": [],
   "source": []
  },
  {
   "cell_type": "code",
   "execution_count": 48,
   "metadata": {},
   "outputs": [
    {
     "name": "stdout",
     "output_type": "stream",
     "text": [
      "   image_id                               file_path   time_uploaded\n",
      "0         1  ../prototype/assets/Site6_031923___100  2020_1_24_14_7\n",
      "1         2  ../prototype/assets/Site6_031923___101  2020_1_24_14_7\n",
      "2         3  ../prototype/assets/Site6_031923___102  2020_1_24_14_7\n",
      "3         4  ../prototype/assets/Site6_031923___103  2020_1_24_14_7\n",
      "4         5  ../prototype/assets/Site6_031923___104  2020_1_24_14_7\n",
      "5         6  ../prototype/assets/Site6_031923___105  2020_1_24_14_7\n"
     ]
    }
   ],
   "source": [
    "# Read sqlite query results into a pandas DataFrame\n",
    "con = sqlite3.connect(\"active_learning_20191210.db\")\n",
    "df = pd.read_sql_query(\"SELECT * from image_log\", con)\n",
    "\n",
    "# Verify that result of SQL query is stored in the dataframe\n",
    "print(df)\n",
    "\n",
    "con.close()"
   ]
  },
  {
   "cell_type": "code",
   "execution_count": 49,
   "metadata": {},
   "outputs": [
    {
     "name": "stdout",
     "output_type": "stream",
     "text": [
      "    map_id                                file_path     time_created  \\\n",
      "0        1  data/train/label/2020_1_24_14_11_1.jpeg  2020_1_24_14_11   \n",
      "1        2  data/train/label/2020_1_24_14_11_2.jpeg  2020_1_24_14_11   \n",
      "2        3  data/train/label/2020_1_24_14_11_3.jpeg  2020_1_24_14_11   \n",
      "3        4  data/train/label/2020_1_24_14_11_4.jpeg  2020_1_24_14_11   \n",
      "4        5  data/train/label/2020_1_24_14_11_5.jpeg  2020_1_24_14_11   \n",
      "5        6  data/train/label/2020_1_24_14_11_6.jpeg  2020_1_24_14_11   \n",
      "6        7  data/train/label/2020_1_24_14_12_1.jpeg  2020_1_24_14_12   \n",
      "7        8  data/train/label/2020_1_24_14_12_2.jpeg  2020_1_24_14_12   \n",
      "8        9  data/train/label/2020_1_24_14_12_3.jpeg  2020_1_24_14_12   \n",
      "9       10  data/train/label/2020_1_24_14_12_4.jpeg  2020_1_24_14_12   \n",
      "10      11  data/train/label/2020_1_24_14_12_5.jpeg  2020_1_24_14_12   \n",
      "11      12  data/train/label/2020_1_24_14_12_6.jpeg  2020_1_24_14_12   \n",
      "12      13   data/train/label/2020_1_27_14_42_1.png  2020_1_27_14_42   \n",
      "13      14   data/train/label/2020_1_27_14_42_2.png  2020_1_27_14_42   \n",
      "14      15   data/train/label/2020_1_27_14_42_3.png  2020_1_27_14_42   \n",
      "15      16   data/train/label/2020_1_27_14_42_4.png  2020_1_27_14_42   \n",
      "16      17   data/train/label/2020_1_27_14_42_5.png  2020_1_27_14_42   \n",
      "17      18   data/train/label/2020_1_27_14_42_6.png  2020_1_27_14_42   \n",
      "18      19   data/train/label/2020_1_27_14_55_1.png  2020_1_27_14_55   \n",
      "19      20   data/train/label/2020_1_27_14_55_2.png  2020_1_27_14_55   \n",
      "20      21   data/train/label/2020_1_27_14_55_3.png  2020_1_27_14_55   \n",
      "21      22   data/train/label/2020_1_27_14_55_4.png  2020_1_27_14_55   \n",
      "22      23   data/train/label/2020_1_27_14_55_5.png  2020_1_27_14_55   \n",
      "23      24   data/train/label/2020_1_27_14_55_6.png  2020_1_27_14_55   \n",
      "24      25  output/2020_1_27_14_56/1_prediction.npy  2020_1_27_14_56   \n",
      "25      26  output/2020_1_27_14_56/2_prediction.npy  2020_1_27_14_56   \n",
      "26      27  output/2020_1_27_14_56/3_prediction.npy  2020_1_27_14_56   \n",
      "27      28  output/2020_1_27_14_56/4_prediction.npy  2020_1_27_14_56   \n",
      "28      29  output/2020_1_27_14_56/5_prediction.npy  2020_1_27_14_56   \n",
      "29      30  output/2020_1_27_14_56/6_prediction.npy  2020_1_27_14_56   \n",
      "\n",
      "    is_manual  \n",
      "0           1  \n",
      "1           1  \n",
      "2           1  \n",
      "3           1  \n",
      "4           1  \n",
      "5           1  \n",
      "6           1  \n",
      "7           1  \n",
      "8           1  \n",
      "9           1  \n",
      "10          1  \n",
      "11          1  \n",
      "12          1  \n",
      "13          1  \n",
      "14          1  \n",
      "15          1  \n",
      "16          1  \n",
      "17          1  \n",
      "18          1  \n",
      "19          1  \n",
      "20          1  \n",
      "21          1  \n",
      "22          1  \n",
      "23          1  \n",
      "24          0  \n",
      "25          0  \n",
      "26          0  \n",
      "27          0  \n",
      "28          0  \n",
      "29          0  \n"
     ]
    }
   ],
   "source": [
    "con = sqlite3.connect(\"active_learning_20191210.db\")\n",
    "df = pd.read_sql_query(\"SELECT * from map_log\", con)\n",
    "\n",
    "# Verify that result of SQL query is stored in the dataframe\n",
    "print(df)\n",
    "\n",
    "con.close()"
   ]
  },
  {
   "cell_type": "code",
   "execution_count": 50,
   "metadata": {},
   "outputs": [
    {
     "name": "stdout",
     "output_type": "stream",
     "text": [
      "    entry_id  image_id  map_id\n",
      "0          1         1       1\n",
      "1          2         2       2\n",
      "2          3         3       3\n",
      "3          4         4       4\n",
      "4          5         5       5\n",
      "5          6         6       6\n",
      "6          7         1       7\n",
      "7          8         2       8\n",
      "8          9         3       9\n",
      "9         10         4      10\n",
      "10        11         5      11\n",
      "11        12         6      12\n",
      "12        13         1      13\n",
      "13        14         2      14\n",
      "14        15         3      15\n",
      "15        16         4      16\n",
      "16        17         5      17\n",
      "17        18         6      18\n",
      "18        19         1      19\n",
      "19        20         2      20\n",
      "20        21         3      21\n",
      "21        22         4      22\n",
      "22        23         5      23\n",
      "23        24         6      24\n",
      "24        25         1      25\n",
      "25        26         2      26\n",
      "26        27         3      27\n",
      "27        28         4      28\n",
      "28        29         5      29\n",
      "29        30         6      30\n"
     ]
    }
   ],
   "source": [
    "con = sqlite3.connect(\"active_learning_20191210.db\")\n",
    "df = pd.read_sql_query(\"SELECT * from image_to_map_log\", con)\n",
    "\n",
    "# Verify that result of SQL query is stored in the dataframe\n",
    "print(df)\n",
    "\n",
    "con.close()"
   ]
  },
  {
   "cell_type": "code",
   "execution_count": 51,
   "metadata": {},
   "outputs": [
    {
     "name": "stdout",
     "output_type": "stream",
     "text": [
      "   training_id                  training_time  \\\n",
      "0            1  Fri, 24 Jan 2020 14:12:19 GMT   \n",
      "1            2  Mon, 27 Jan 2020 14:42:26 GMT   \n",
      "2            3  Mon, 27 Jan 2020 14:55:51 GMT   \n",
      "\n",
      "                                      file_path  from_scratch  \n",
      "0  models/unet_stroke_2020_1_24_14_12_init.hdf5             1  \n",
      "1  models/unet_stroke_2020_1_27_14_42_init.hdf5             1  \n",
      "2  models/unet_stroke_2020_1_27_14_55_init.hdf5             1  \n"
     ]
    }
   ],
   "source": [
    "# Read sqlite query results into a pandas DataFrame\n",
    "con = sqlite3.connect(\"active_learning_20191210.db\")\n",
    "df = pd.read_sql_query(\"SELECT * from training_log\", con)\n",
    "\n",
    "# Verify that result of SQL query is stored in the dataframe\n",
    "print(df.head())\n",
    "\n",
    "con.close()"
   ]
  },
  {
   "cell_type": "code",
   "execution_count": 52,
   "metadata": {},
   "outputs": [
    {
     "name": "stdout",
     "output_type": "stream",
     "text": [
      "    entry_id  image_id  training_id\n",
      "0          1         1            1\n",
      "1          2         2            1\n",
      "2          3         3            1\n",
      "3          4         4            1\n",
      "4          5         5            1\n",
      "5          6         6            1\n",
      "6          7         1            2\n",
      "7          8         2            2\n",
      "8          9         3            2\n",
      "9         10         4            2\n",
      "10        11         5            2\n",
      "11        12         6            2\n",
      "12        13         1            3\n",
      "13        14         2            3\n",
      "14        15         3            3\n",
      "15        16         4            3\n",
      "16        17         5            3\n",
      "17        18         6            3\n"
     ]
    }
   ],
   "source": [
    "con = sqlite3.connect(\"active_learning_20191210.db\")\n",
    "\n",
    "df = pd.read_sql_query(\"SELECT * from train_to_image_log\", con)\n",
    "\n",
    "# Verify that result of SQL query is stored in the dataframe\n",
    "print(df)\n",
    "\n",
    "con.close()"
   ]
  },
  {
   "cell_type": "code",
   "execution_count": 22,
   "metadata": {},
   "outputs": [
    {
     "name": "stdout",
     "output_type": "stream",
     "text": [
      "[('training_log',), ('image_log',), ('map_log',), ('train_to_image_log',), ('image_to_map_log',)]\n"
     ]
    }
   ],
   "source": [
    "#Look at all tables\n",
    "con = sqlite3.connect('active_learning_20191210.db')\n",
    "cursor = con.cursor()\n",
    "cursor.execute(\"SELECT name FROM sqlite_master WHERE type='table';\")\n",
    "print(cursor.fetchall())"
   ]
  },
  {
   "cell_type": "markdown",
   "metadata": {},
   "source": [
    "## Input into tables"
   ]
  },
  {
   "cell_type": "code",
   "execution_count": 77,
   "metadata": {},
   "outputs": [],
   "source": [
    "#Function to prep the columns for the SQL query\n",
    "def prep_cols(cols):\n",
    "    \n",
    "    #init string\n",
    "    final_str = ''\n",
    "    \n",
    "    #loop through columns and construct string\n",
    "    for i in cols:\n",
    "        final_str = final_str + i + ','\n",
    "        \n",
    "    #return\n",
    "    return final_str[:-1]"
   ]
  },
  {
   "cell_type": "code",
   "execution_count": 86,
   "metadata": {},
   "outputs": [],
   "source": [
    "def create_entry(conn, table_name, task):\n",
    "    \"\"\"\n",
    "    Create a new entry\n",
    "    :param conn:\n",
    "    :param task:\n",
    "    :return:\n",
    "    \"\"\"\n",
    "    \n",
    "    #Read in table\n",
    "    df = pd.read_sql_query(\"SELECT * from \" + db_name + \" \", conn)\n",
    "\n",
    "    #get list of columns\n",
    "    columns = list(df.columns)\n",
    "\n",
    "    #Construct sql query\n",
    "    sql = ' INSERT INTO ' + db_name + '(' + prep_cols(columns) + ')'  + ' VALUES(?, ?, ?, ?) '\n",
    "\n",
    "#     sql = ''' INSERT INTO training_log(training_id, training_time, file_path, from_scratch) VALUES(?, ?, ?, ?) '''\n",
    "\n",
    "    #execute\n",
    "    cur = conn.cursor()\n",
    "    cur.execute(sql, task)\n",
    "    return cur.lastrowid\n",
    "\n",
    "\n",
    "def main():\n",
    "    \n",
    "    #Database name\n",
    "    database = \"active_learning_20191210.db\"\n",
    " \n",
    "    # create a database connection\n",
    "    conn = create_connection(database)\n",
    "    with conn:\n",
    "        \n",
    "        # Specific table and inputs\n",
    "        table_name = 'training_log'\n",
    "        task_1 = ('10002', '12/10/2019', 'example/file/path', True)\n",
    " \n",
    "        # create entry\n",
    "        create_entry(conn, table_name, task_1)\n",
    "        \n",
    "    conn.close()\n"
   ]
  },
  {
   "cell_type": "code",
   "execution_count": 87,
   "metadata": {},
   "outputs": [],
   "source": [
    "main()"
   ]
  },
  {
   "cell_type": "code",
   "execution_count": 88,
   "metadata": {},
   "outputs": [
    {
     "name": "stdout",
     "output_type": "stream",
     "text": [
      "   training_id training_time          file_path  from_scratch\n",
      "0          100    12/10/2019  example/filt/path             1\n",
      "1        10000    12/10/2019  example/file/path             1\n",
      "2        10001    12/10/2019  example/file/path             1\n",
      "3        10002    12/10/2019  example/file/path             1\n"
     ]
    }
   ],
   "source": [
    "# Read sqlite query results into a pandas DataFrame\n",
    "con = sqlite3.connect(\"active_learning_20191210.db\")\n",
    "df = pd.read_sql_query(\"SELECT * from training_log\", con)\n",
    "\n",
    "# Verify that result of SQL query is stored in the dataframe\n",
    "print(df.head())\n",
    "\n",
    "con.close()"
   ]
  },
  {
   "cell_type": "markdown",
   "metadata": {},
   "source": [
    "## Delete Row"
   ]
  },
  {
   "cell_type": "code",
   "execution_count": 41,
   "metadata": {},
   "outputs": [
    {
     "name": "stdout",
     "output_type": "stream",
     "text": [
      "Connected to SQLite\n",
      "Record deleted successfully \n",
      "the sqlite connection is closed\n"
     ]
    }
   ],
   "source": [
    "def deleteRecord():\n",
    "    try:\n",
    "        con = sqlite3.connect('active_learning_20191210.db')\n",
    "        cursor = con.cursor()\n",
    "        print(\"Connected to SQLite\")\n",
    "\n",
    "        # Deleting single record now\n",
    "        sql_delete_query = \"\"\"DELETE from training_log where training_id = 0\"\"\"\n",
    "        cursor.execute(sql_delete_query)\n",
    "        con.commit()\n",
    "        print(\"Record deleted successfully \")\n",
    "        cursor.close()\n",
    "\n",
    "    except sqlite3.Error as error:\n",
    "        print(\"Failed to delete record from sqlite table\", error)\n",
    "    finally:\n",
    "        if (con):\n",
    "            con.close()\n",
    "            print(\"the sqlite connection is closed\")\n",
    "\n",
    "deleteRecord()"
   ]
  },
  {
   "cell_type": "code",
   "execution_count": 42,
   "metadata": {},
   "outputs": [
    {
     "name": "stdout",
     "output_type": "stream",
     "text": [
      "   training_id training_time          file_path  from_scratch\n",
      "0          100    12/10/2019  example/filt/path             1\n",
      "1        10000    12/10/2019  example/file/path             1\n"
     ]
    }
   ],
   "source": [
    "# Read sqlite query results into a pandas DataFrame\n",
    "con = sqlite3.connect(\"active_learning_20191210.db\")\n",
    "df = pd.read_sql_query(\"SELECT * from training_log\", con)\n",
    "\n",
    "# Verify that result of SQL query is stored in the dataframe\n",
    "print(df.head())\n",
    "\n",
    "con.close()"
   ]
  },
  {
   "cell_type": "code",
   "execution_count": null,
   "metadata": {},
   "outputs": [],
   "source": []
  }
 ],
 "metadata": {
  "kernelspec": {
   "display_name": "Python 3",
   "language": "python",
   "name": "python3"
  },
  "language_info": {
   "codemirror_mode": {
    "name": "ipython",
    "version": 3
   },
   "file_extension": ".py",
   "mimetype": "text/x-python",
   "name": "python",
   "nbconvert_exporter": "python",
   "pygments_lexer": "ipython3",
   "version": "3.7.4"
  }
 },
 "nbformat": 4,
 "nbformat_minor": 4
}
