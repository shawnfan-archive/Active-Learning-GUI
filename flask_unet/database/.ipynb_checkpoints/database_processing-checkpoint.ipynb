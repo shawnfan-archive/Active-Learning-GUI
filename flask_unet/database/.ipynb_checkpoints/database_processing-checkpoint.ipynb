{
 "cells": [
  {
   "cell_type": "code",
   "execution_count": 133,
   "metadata": {},
   "outputs": [],
   "source": [
    "#Imports\n",
    "import sqlite3\n",
    "from sqlite3 import Error\n",
    "\n",
    "import pandas as pd\n",
    "from datetime import datetime\n",
    "import os"
   ]
  },
  {
   "cell_type": "markdown",
   "metadata": {},
   "source": [
    "## Create Database and Tables"
   ]
  },
  {
   "cell_type": "code",
   "execution_count": 134,
   "metadata": {},
   "outputs": [],
   "source": [
    "def create_connection(db_file):\n",
    "    \"\"\" create a database connection to the SQLite database\n",
    "        specified by db_file\n",
    "    :param db_file: database file\n",
    "    :return: Connection object or None\n",
    "    \"\"\"\n",
    "    conn = None\n",
    "    try:\n",
    "        conn = sqlite3.connect(db_file)\n",
    "        return conn\n",
    "    except Error as e:\n",
    "        print(e)\n",
    " \n",
    "    return conn\n",
    " \n",
    "\n",
    "def create_table(conn, create_table_sql):\n",
    "    \"\"\" create a table from the create_table_sql statement\n",
    "    :param conn: Connection object\n",
    "    :param create_table_sql: a CREATE TABLE statement\n",
    "    :return:\n",
    "    \"\"\"\n",
    "    try:\n",
    "        c = conn.cursor()\n",
    "        c.execute(create_table_sql)\n",
    "    except Error as e:\n",
    "        print(e)\n",
    "\n",
    "def main():\n",
    "    database = r\"active_learning_20191210.db\"\n",
    " \n",
    "    sql_create_training_log = \"\"\" CREATE TABLE IF NOT EXISTS training_log (\n",
    "                                        training_id integer PRIMARY KEY,\n",
    "                                        training_time datetime,\n",
    "                                        file_path string,\n",
    "                                        from_scratch boolean\n",
    "                                    ); \"\"\"\n",
    " \n",
    "    sql_create_image_log = \"\"\" CREATE TABLE IF NOT EXISTS image_log (\n",
    "                                        image_id integer PRIMARY KEY,\n",
    "                                        file_path string,\n",
    "                                        time_uploaded datetime\n",
    "                                    ); \"\"\"\n",
    " \n",
    "    sql_create_map_log = \"\"\" CREATE TABLE IF NOT EXISTS map_log (\n",
    "                                        map_id integer PRIMARY KEY,\n",
    "                                        file_path string,\n",
    "                                        time_created datetime,\n",
    "                                        is_manual boolean\n",
    "                                    ); \"\"\"\n",
    " \n",
    "    sql_create_train_to_image_log = \"\"\"CREATE TABLE IF NOT EXISTS train_to_image_log (\n",
    "                                    entry_id integer PRIMARY KEY,\n",
    "                                    image_id integer,\n",
    "                                    training_id integer,\n",
    "                                    FOREIGN KEY (image_id) REFERENCES image_log (image_id),\n",
    "                                    FOREIGN KEY (training_id) REFERENCES training_log (training_id)\n",
    "                                );\"\"\"\n",
    "    \n",
    "    sql_create_image_to_map_log = \"\"\"CREATE TABLE IF NOT EXISTS image_to_map_log (\n",
    "                                    entry_id integer PRIMARY KEY,\n",
    "                                    image_id integer,\n",
    "                                    map_id integer,\n",
    "                                    FOREIGN KEY (image_id) REFERENCES image_log (image_id),\n",
    "                                    FOREIGN KEY (map_id) REFERENCES map_log (map_id)\n",
    "                                );\"\"\"\n",
    " \n",
    "    # create a database connection\n",
    "    conn = create_connection(database)\n",
    " \n",
    "    # create tables\n",
    "    if conn is not None:\n",
    "        # create training_log\n",
    "        create_table(conn, sql_create_training_log)\n",
    " \n",
    "        # create image_log\n",
    "        create_table(conn, sql_create_image_log)\n",
    "        \n",
    "        # create map_log\n",
    "        create_table(conn, sql_create_map_log)\n",
    "        \n",
    "        # create train_to_image_log\n",
    "        create_table(conn, sql_create_train_to_image_log)\n",
    "        \n",
    "        # create image_to_map_log\n",
    "        create_table(conn, sql_create_image_to_map_log)\n",
    "    else:\n",
    "        print(\"Error! cannot create the database connection.\")\n",
    " \n"
   ]
  },
  {
   "cell_type": "code",
   "execution_count": 146,
   "metadata": {},
   "outputs": [],
   "source": [
    "#Create database\n",
    "\n",
    "main()"
   ]
  },
  {
   "cell_type": "code",
   "execution_count": null,
   "metadata": {},
   "outputs": [],
   "source": [
    "#Look at all tables\n",
    "con = sqlite3.connect('active_learning_20191210.db')\n",
    "cursor = con.cursor()\n",
    "cursor.execute(\"SELECT name FROM sqlite_master WHERE type='table';\")\n",
    "print(cursor.fetchall())"
   ]
  },
  {
   "cell_type": "code",
   "execution_count": 147,
   "metadata": {},
   "outputs": [
    {
     "name": "stdout",
     "output_type": "stream",
     "text": [
      "031966_Site8_t01_115.npy\n"
     ]
    }
   ],
   "source": [
    "#List images in train or assets\n",
    "\n",
    "image_filenames = os.listdir(\"../data/train/image\")\n",
    "print(image_filenames[0])"
   ]
  },
  {
   "cell_type": "code",
   "execution_count": 148,
   "metadata": {},
   "outputs": [],
   "source": [
    "#Add images in train and assets to image log\n",
    "\n",
    "con = sqlite3.connect(\"active_learning_20191210.db\")\n",
    "cur = con.cursor()\n",
    "\n",
    "now = datetime.now()\n",
    "cur_date = str(now.year) + '_' + str(now.month) + '_' + str(\n",
    "            now.day) + '_' + str(now.hour) + '_' + str(now.minute)\n",
    "\n",
    "for filename in image_filenames:\n",
    "    \n",
    "    #file_path is relative to app.py!!!\n",
    "    image_path = \"data/train/image/\" + filename\n",
    "    image_log_entry = (image_path, cur_date)\n",
    "    cur.execute('INSERT INTO image_log (file_path, time_uploaded) VALUES' + str(image_log_entry))\n",
    "    image_id = cur.lastrowid\n",
    "    \n",
    "    map_path = \"data/train/label/\" + filename\n",
    "    #Image and its corresponding lable have the same file_path/filename\n",
    "    map_log_entry = (map_path, cur_date, False)\n",
    "    cur.execute('INSERT INTO map_log (file_path, time_created, is_manual) VALUES' + str(map_log_entry))\n",
    "    map_id = cur.lastrowid\n",
    "    \n",
    "    #Update image-to-map log \n",
    "    cur.execute('INSERT INTO image_to_map_log (image_id, map_id) VALUES' + str((image_id, map_id)))\n",
    "                \n",
    "con.commit()\n",
    "con.close()"
   ]
  },
  {
   "cell_type": "code",
   "execution_count": 149,
   "metadata": {},
   "outputs": [
    {
     "name": "stdout",
     "output_type": "stream",
     "text": [
      "     image_id                                  file_path    time_uploaded\n",
      "0           1  data/train/image/031966_Site8_t01_115.npy  2020_2_19_11_57\n",
      "1           2   data/train/image/031914_Site5_t01_81.npy  2020_2_19_11_57\n",
      "2           3   data/train/image/031812_Site1_t01_75.npy  2020_2_19_11_57\n",
      "3           4  data/train/image/031948_Site8_t02_113.npy  2020_2_19_11_57\n",
      "4           5   data/train/image/031950_Site8_t02_39.npy  2020_2_19_11_57\n",
      "..        ...                                        ...              ...\n",
      "674       675   data/train/image/031962_Site8_t01_40.npy  2020_2_19_11_57\n",
      "675       676   data/train/image/031785_Site1_t01_70.npy  2020_2_19_11_57\n",
      "676       677  data/train/image/031981_Site9_t01_106.npy  2020_2_19_11_57\n",
      "677       678   data/train/image/031974_Site9_t01_91.npy  2020_2_19_11_57\n",
      "678       679   data/train/image/031858_Site3_t01_95.npy  2020_2_19_11_57\n",
      "\n",
      "[679 rows x 3 columns]\n",
      "36\n",
      "data/train/image/031904_Site5_t01_86.npy\n"
     ]
    }
   ],
   "source": [
    "# Check if entries were added correctly\n",
    "# Read sqlite query results into a pandas DataFrame\n",
    "con = sqlite3.connect(\"active_learning_20191210.db\")\n",
    "img_df = pd.read_sql_query(\"SELECT * from image_log\", con)\n",
    "\n",
    "# Verify that result of SQL query is stored in the dataframe\n",
    "print(img_df)\n",
    "\n",
    "index = img_df[img_df['image_id'] == 37].index.values.astype(int)[0]\n",
    "print(index)\n",
    "print(img_df.iloc[index]['file_path'])\n",
    "\n",
    "con.close()"
   ]
  },
  {
   "cell_type": "code",
   "execution_count": 150,
   "metadata": {},
   "outputs": [
    {
     "name": "stdout",
     "output_type": "stream",
     "text": [
      "679\n"
     ]
    }
   ],
   "source": [
    "print(len(img_df))"
   ]
  },
  {
   "cell_type": "code",
   "execution_count": 151,
   "metadata": {},
   "outputs": [
    {
     "name": "stdout",
     "output_type": "stream",
     "text": [
      "     map_id                                  file_path     time_created  \\\n",
      "0         1  data/train/label/031966_Site8_t01_115.npy  2020_2_19_11_57   \n",
      "1         2   data/train/label/031914_Site5_t01_81.npy  2020_2_19_11_57   \n",
      "2         3   data/train/label/031812_Site1_t01_75.npy  2020_2_19_11_57   \n",
      "3         4  data/train/label/031948_Site8_t02_113.npy  2020_2_19_11_57   \n",
      "4         5   data/train/label/031950_Site8_t02_39.npy  2020_2_19_11_57   \n",
      "..      ...                                        ...              ...   \n",
      "674     675   data/train/label/031962_Site8_t01_40.npy  2020_2_19_11_57   \n",
      "675     676   data/train/label/031785_Site1_t01_70.npy  2020_2_19_11_57   \n",
      "676     677  data/train/label/031981_Site9_t01_106.npy  2020_2_19_11_57   \n",
      "677     678   data/train/label/031974_Site9_t01_91.npy  2020_2_19_11_57   \n",
      "678     679   data/train/label/031858_Site3_t01_95.npy  2020_2_19_11_57   \n",
      "\n",
      "     is_manual  \n",
      "0            0  \n",
      "1            0  \n",
      "2            0  \n",
      "3            0  \n",
      "4            0  \n",
      "..         ...  \n",
      "674          0  \n",
      "675          0  \n",
      "676          0  \n",
      "677          0  \n",
      "678          0  \n",
      "\n",
      "[679 rows x 4 columns]\n"
     ]
    }
   ],
   "source": [
    "con = sqlite3.connect(\"active_learning_20191210.db\")\n",
    "map_df = pd.read_sql_query(\"SELECT * from map_log\", con)\n",
    "\n",
    "# Verify that result of SQL query is stored in the dataframe\n",
    "print(map_df)\n",
    "\n",
    "con.close()"
   ]
  },
  {
   "cell_type": "code",
   "execution_count": 152,
   "metadata": {},
   "outputs": [
    {
     "name": "stdout",
     "output_type": "stream",
     "text": [
      "     entry_id  image_id  map_id\n",
      "0           1         1       1\n",
      "1           2         2       2\n",
      "2           3         3       3\n",
      "3           4         4       4\n",
      "4           5         5       5\n",
      "..        ...       ...     ...\n",
      "674       675       675     675\n",
      "675       676       676     676\n",
      "676       677       677     677\n",
      "677       678       678     678\n",
      "678       679       679     679\n",
      "\n",
      "[679 rows x 3 columns]\n"
     ]
    }
   ],
   "source": [
    "con = sqlite3.connect(\"active_learning_20191210.db\")\n",
    "df = pd.read_sql_query(\"SELECT * from image_to_map_log\", con)\n",
    "\n",
    "# Verify that result of SQL query is stored in the dataframe\n",
    "print(df)\n",
    "\n",
    "con.close()"
   ]
  },
  {
   "cell_type": "code",
   "execution_count": 153,
   "metadata": {},
   "outputs": [
    {
     "name": "stdout",
     "output_type": "stream",
     "text": [
      "Empty DataFrame\n",
      "Columns: [training_id, training_time, file_path, from_scratch]\n",
      "Index: []\n"
     ]
    }
   ],
   "source": [
    "# Read sqlite query results into a pandas DataFrame\n",
    "con = sqlite3.connect(\"active_learning_20191210.db\")\n",
    "df = pd.read_sql_query(\"SELECT * from training_log\", con)\n",
    "\n",
    "# Verify that result of SQL query is stored in the dataframe\n",
    "print(df.head())\n",
    "\n",
    "con.close()"
   ]
  },
  {
   "cell_type": "code",
   "execution_count": 99,
   "metadata": {},
   "outputs": [
    {
     "name": "stdout",
     "output_type": "stream",
     "text": [
      "Empty DataFrame\n",
      "Columns: [entry_id, image_id, training_id]\n",
      "Index: []\n"
     ]
    }
   ],
   "source": [
    "con = sqlite3.connect(\"active_learning_20191210.db\")\n",
    "\n",
    "df = pd.read_sql_query(\"SELECT * from train_to_image_log\", con)\n",
    "\n",
    "# Verify that result of SQL query is stored in the dataframe\n",
    "print(df)\n",
    "\n",
    "con.close()"
   ]
  },
  {
   "cell_type": "code",
   "execution_count": 22,
   "metadata": {},
   "outputs": [
    {
     "name": "stdout",
     "output_type": "stream",
     "text": [
      "[('training_log',), ('image_log',), ('map_log',), ('train_to_image_log',), ('image_to_map_log',)]\n"
     ]
    }
   ],
   "source": []
  },
  {
   "cell_type": "markdown",
   "metadata": {},
   "source": [
    "## Input into tables"
   ]
  },
  {
   "cell_type": "code",
   "execution_count": 77,
   "metadata": {},
   "outputs": [],
   "source": [
    "#Function to prep the columns for the SQL query\n",
    "def prep_cols(cols):\n",
    "    \n",
    "    #init string\n",
    "    final_str = ''\n",
    "    \n",
    "    #loop through columns and construct string\n",
    "    for i in cols:\n",
    "        final_str = final_str + i + ','\n",
    "        \n",
    "    #return\n",
    "    return final_str[:-1]"
   ]
  },
  {
   "cell_type": "code",
   "execution_count": 86,
   "metadata": {},
   "outputs": [],
   "source": [
    "def create_entry(conn, table_name, task):\n",
    "    \"\"\"\n",
    "    Create a new entry\n",
    "    :param conn:\n",
    "    :param task:\n",
    "    :return:\n",
    "    \"\"\"\n",
    "    \n",
    "    #Read in table\n",
    "    df = pd.read_sql_query(\"SELECT * from \" + db_name + \" \", conn)\n",
    "\n",
    "    #get list of columns\n",
    "    columns = list(df.columns)\n",
    "\n",
    "    #Construct sql query\n",
    "    sql = ' INSERT INTO ' + db_name + '(' + prep_cols(columns) + ')'  + ' VALUES(?, ?, ?, ?) '\n",
    "\n",
    "#     sql = ''' INSERT INTO training_log(training_id, training_time, file_path, from_scratch) VALUES(?, ?, ?, ?) '''\n",
    "\n",
    "    #execute\n",
    "    cur = conn.cursor()\n",
    "    cur.execute(sql, task)\n",
    "    return cur.lastrowid\n",
    "\n",
    "\n",
    "def main():\n",
    "    \n",
    "    #Database name\n",
    "    database = \"active_learning_20191210.db\"\n",
    " \n",
    "    # create a database connection\n",
    "    conn = create_connection(database)\n",
    "    with conn:\n",
    "        \n",
    "        # Specific table and inputs\n",
    "        table_name = 'training_log'\n",
    "        task_1 = ('10002', '12/10/2019', 'example/file/path', True)\n",
    " \n",
    "        # create entry\n",
    "        create_entry(conn, table_name, task_1)\n",
    "        \n",
    "    conn.close()\n"
   ]
  },
  {
   "cell_type": "code",
   "execution_count": 87,
   "metadata": {},
   "outputs": [],
   "source": [
    "main()"
   ]
  },
  {
   "cell_type": "code",
   "execution_count": 88,
   "metadata": {},
   "outputs": [
    {
     "name": "stdout",
     "output_type": "stream",
     "text": [
      "   training_id training_time          file_path  from_scratch\n",
      "0          100    12/10/2019  example/filt/path             1\n",
      "1        10000    12/10/2019  example/file/path             1\n",
      "2        10001    12/10/2019  example/file/path             1\n",
      "3        10002    12/10/2019  example/file/path             1\n"
     ]
    }
   ],
   "source": [
    "# Read sqlite query results into a pandas DataFrame\n",
    "con = sqlite3.connect(\"active_learning_20191210.db\")\n",
    "df = pd.read_sql_query(\"SELECT * from training_log\", con)\n",
    "\n",
    "# Verify that result of SQL query is stored in the dataframe\n",
    "print(df.head())\n",
    "\n",
    "con.close()"
   ]
  },
  {
   "cell_type": "markdown",
   "metadata": {},
   "source": [
    "## Delete Row"
   ]
  },
  {
   "cell_type": "code",
   "execution_count": 41,
   "metadata": {},
   "outputs": [
    {
     "name": "stdout",
     "output_type": "stream",
     "text": [
      "Connected to SQLite\n",
      "Record deleted successfully \n",
      "the sqlite connection is closed\n"
     ]
    }
   ],
   "source": [
    "def deleteRecord():\n",
    "    try:\n",
    "        con = sqlite3.connect('active_learning_20191210.db')\n",
    "        cursor = con.cursor()\n",
    "        print(\"Connected to SQLite\")\n",
    "\n",
    "        # Deleting single record now\n",
    "        sql_delete_query = \"\"\"DELETE from training_log where training_id = 0\"\"\"\n",
    "        cursor.execute(sql_delete_query)\n",
    "        con.commit()\n",
    "        print(\"Record deleted successfully \")\n",
    "        cursor.close()\n",
    "\n",
    "    except sqlite3.Error as error:\n",
    "        print(\"Failed to delete record from sqlite table\", error)\n",
    "    finally:\n",
    "        if (con):\n",
    "            con.close()\n",
    "            print(\"the sqlite connection is closed\")\n",
    "\n",
    "deleteRecord()"
   ]
  },
  {
   "cell_type": "code",
   "execution_count": 42,
   "metadata": {},
   "outputs": [
    {
     "name": "stdout",
     "output_type": "stream",
     "text": [
      "   training_id training_time          file_path  from_scratch\n",
      "0          100    12/10/2019  example/filt/path             1\n",
      "1        10000    12/10/2019  example/file/path             1\n"
     ]
    }
   ],
   "source": [
    "# Read sqlite query results into a pandas DataFrame\n",
    "con = sqlite3.connect(\"active_learning_20191210.db\")\n",
    "df = pd.read_sql_query(\"SELECT * from training_log\", con)\n",
    "\n",
    "# Verify that result of SQL query is stored in the dataframe\n",
    "print(df.head())\n",
    "\n",
    "con.close()"
   ]
  },
  {
   "cell_type": "code",
   "execution_count": null,
   "metadata": {},
   "outputs": [],
   "source": []
  }
 ],
 "metadata": {
  "kernelspec": {
   "display_name": "Python 3",
   "language": "python",
   "name": "python3"
  },
  "language_info": {
   "codemirror_mode": {
    "name": "ipython",
    "version": 3
   },
   "file_extension": ".py",
   "mimetype": "text/x-python",
   "name": "python",
   "nbconvert_exporter": "python",
   "pygments_lexer": "ipython3",
   "version": "3.7.4"
  }
 },
 "nbformat": 4,
 "nbformat_minor": 4
}
