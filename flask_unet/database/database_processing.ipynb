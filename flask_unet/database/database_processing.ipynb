{
 "cells": [
  {
   "cell_type": "code",
   "execution_count": 1,
   "metadata": {},
   "outputs": [],
   "source": [
    "#Imports\n",
    "import sqlite3\n",
    "from sqlite3 import Error\n",
    "\n",
    "import pandas as pd\n",
    "from datetime import datetime\n",
    "import os"
   ]
  },
  {
   "cell_type": "markdown",
   "metadata": {},
   "source": [
    "## Create Database and Tables"
   ]
  },
  {
   "cell_type": "code",
   "execution_count": 134,
   "metadata": {},
   "outputs": [],
   "source": [
    "def create_connection(db_file):\n",
    "    \"\"\" create a database connection to the SQLite database\n",
    "        specified by db_file\n",
    "    :param db_file: database file\n",
    "    :return: Connection object or None\n",
    "    \"\"\"\n",
    "    conn = None\n",
    "    try:\n",
    "        conn = sqlite3.connect(db_file)\n",
    "        return conn\n",
    "    except Error as e:\n",
    "        print(e)\n",
    " \n",
    "    return conn\n",
    " \n",
    "\n",
    "def create_table(conn, create_table_sql):\n",
    "    \"\"\" create a table from the create_table_sql statement\n",
    "    :param conn: Connection object\n",
    "    :param create_table_sql: a CREATE TABLE statement\n",
    "    :return:\n",
    "    \"\"\"\n",
    "    try:\n",
    "        c = conn.cursor()\n",
    "        c.execute(create_table_sql)\n",
    "    except Error as e:\n",
    "        print(e)\n",
    "\n",
    "def main():\n",
    "    database = r\"active_learning_20191210.db\"\n",
    " \n",
    "    sql_create_training_log = \"\"\" CREATE TABLE IF NOT EXISTS training_log (\n",
    "                                        training_id integer PRIMARY KEY,\n",
    "                                        training_time datetime,\n",
    "                                        file_path string,\n",
    "                                        from_scratch boolean\n",
    "                                    ); \"\"\"\n",
    " \n",
    "    sql_create_image_log = \"\"\" CREATE TABLE IF NOT EXISTS image_log (\n",
    "                                        image_id integer PRIMARY KEY,\n",
    "                                        file_path string,\n",
    "                                        time_uploaded datetime\n",
    "                                    ); \"\"\"\n",
    " \n",
    "    sql_create_map_log = \"\"\" CREATE TABLE IF NOT EXISTS map_log (\n",
    "                                        map_id integer PRIMARY KEY,\n",
    "                                        file_path string,\n",
    "                                        time_created datetime,\n",
    "                                        is_manual boolean\n",
    "                                    ); \"\"\"\n",
    " \n",
    "    sql_create_train_to_image_log = \"\"\"CREATE TABLE IF NOT EXISTS train_to_image_log (\n",
    "                                    entry_id integer PRIMARY KEY,\n",
    "                                    image_id integer,\n",
    "                                    training_id integer,\n",
    "                                    FOREIGN KEY (image_id) REFERENCES image_log (image_id),\n",
    "                                    FOREIGN KEY (training_id) REFERENCES training_log (training_id)\n",
    "                                );\"\"\"\n",
    "    \n",
    "    sql_create_image_to_map_log = \"\"\"CREATE TABLE IF NOT EXISTS image_to_map_log (\n",
    "                                    entry_id integer PRIMARY KEY,\n",
    "                                    image_id integer,\n",
    "                                    map_id integer,\n",
    "                                    FOREIGN KEY (image_id) REFERENCES image_log (image_id),\n",
    "                                    FOREIGN KEY (map_id) REFERENCES map_log (map_id)\n",
    "                                );\"\"\"\n",
    " \n",
    "    # create a database connection\n",
    "    conn = create_connection(database)\n",
    " \n",
    "    # create tables\n",
    "    if conn is not None:\n",
    "        # create training_log\n",
    "        create_table(conn, sql_create_training_log)\n",
    " \n",
    "        # create image_log\n",
    "        create_table(conn, sql_create_image_log)\n",
    "        \n",
    "        # create map_log\n",
    "        create_table(conn, sql_create_map_log)\n",
    "        \n",
    "        # create train_to_image_log\n",
    "        create_table(conn, sql_create_train_to_image_log)\n",
    "        \n",
    "        # create image_to_map_log\n",
    "        create_table(conn, sql_create_image_to_map_log)\n",
    "    else:\n",
    "        print(\"Error! cannot create the database connection.\")\n",
    " \n"
   ]
  },
  {
   "cell_type": "code",
   "execution_count": 164,
   "metadata": {},
   "outputs": [],
   "source": [
    "#Create database\n",
    "\n",
    "main()"
   ]
  },
  {
   "cell_type": "code",
   "execution_count": 165,
   "metadata": {},
   "outputs": [
    {
     "name": "stdout",
     "output_type": "stream",
     "text": [
      "[('training_log',), ('image_log',), ('map_log',), ('train_to_image_log',), ('image_to_map_log',)]\n"
     ]
    }
   ],
   "source": [
    "#Look at all tables\n",
    "con = sqlite3.connect('active_learning_20191210.db')\n",
    "cursor = con.cursor()\n",
    "cursor.execute(\"SELECT name FROM sqlite_master WHERE type='table';\")\n",
    "print(cursor.fetchall())"
   ]
  },
  {
   "cell_type": "code",
   "execution_count": 166,
   "metadata": {},
   "outputs": [
    {
     "name": "stdout",
     "output_type": "stream",
     "text": [
      "['031768_Site1_t01_98', '031768_Site1_t01_94', '031768_Site1_t01_102', '031769_Site1_t01_74', '031769_Site1_t01_67', '031769_Site1_t01_81', '031770_Site1_t01_105', '031770_Site1_t01_103', '031770_Site1_t01_107', '031771_Site1_t01_88', '031771_Site1_t01_76', '031771_Site1_t01_101', '031772_Site1_t01_88', '031772_Site1_t01_80', '031772_Site1_t01_96', '031773_Site1_t01_78', '031773_Site1_t01_77', '031773_Site1_t01_79', '031774_Site1_t01_82', '031774_Site1_t01_69', '031774_Site1_t01_96', '031775_Site1_t01_67', '031775_Site1_t01_65', '031775_Site1_t01_69', '031776_Site1_t01_76', '031776_Site1_t01_70', '031776_Site1_t01_82', '031777_Site1_t01_101', '031777_Site1_t01_93', '031777_Site1_t01_110', '031778_Site1_t01_72', '031778_Site1_t01_65', '031778_Site1_t01_79', '031779_Site1_t01_100', '031779_Site1_t01_93', '031779_Site1_t01_107', '031780_Site1_t01_90', '031780_Site1_t01_84', '031780_Site1_t01_97', '031781_Site1_t01_88', '031781_Site1_t01_81', '031781_Site1_t01_95', '031782_Site1_t01_96', '031782_Site1_t01_90', '031782_Site1_t01_102', '031783_Site1_t01_76', '031783_Site1_t01_74', '031783_Site1_t01_78', '031784_Site1_t01_71', '031784_Site1_t01_68', '031784_Site1_t01_74', '031785_Site1_t01_77', '031785_Site1_t01_70', '031785_Site1_t01_84', '031786_Site1_t01_83', '031786_Site1_t01_72', '031786_Site1_t01_94', '031787_Site1_t01_91', '031787_Site1_t01_86', '031787_Site1_t01_97', '031788_Site1_t01_75', '031788_Site1_t01_74', '031788_Site1_t01_77', '031789_Site1_t01_77', '031789_Site1_t01_76', '031789_Site1_t01_78', '031790_Site1_t01_84', '031790_Site1_t01_77', '031790_Site1_t01_91', '031791_Site1_t01_80', '031791_Site1_t01_70', '031791_Site1_t01_90', '031792_Site1_t01_88', '031792_Site1_t01_76', '031792_Site1_t01_101', '031793_Site1_t01_71', '031793_Site1_t01_66', '031793_Site1_t01_77', '031794_Site1_t01_93', '031794_Site1_t01_89', '031794_Site1_t01_98', '031795_Site1_t01_82', '031795_Site1_t01_80', '031795_Site1_t01_85', '031796_Site1_t01_80', '031796_Site1_t01_70', '031796_Site1_t01_90', '031797_Site1_t01_104', '031797_Site1_t01_101', '031797_Site1_t01_108', '031798_Site1_t01_89', '031798_Site1_t01_79', '031798_Site1_t01_99', '031799_Site1_t01_103', '031799_Site1_t01_93', '031799_Site1_t01_114', '031800_Site1_t01_76', '031800_Site1_t01_72', '031800_Site1_t01_80', '031801_Site1_t01_90', '031801_Site1_t01_76', '031801_Site1_t01_104', '031802_Site1_t01_87', '031802_Site1_t01_76', '031802_Site1_t01_99', '031803_Site1_t01_89', '031803_Site1_t01_78', '031803_Site1_t01_100', '031804_Site1_t01_82', '031804_Site1_t01_74', '031804_Site1_t01_91', '031805_Site1_t01_101', '031805_Site1_t01_94', '031805_Site1_t01_109', '031806_Site1_t01_85', '031806_Site1_t01_76', '031806_Site1_t01_94', '031807_Site1_t01_90', '031807_Site1_t01_82', '031807_Site1_t01_98', '031808_Site1_t01_89', '031808_Site1_t01_81', '031808_Site1_t01_98', '031809_Site1_t01_87', '031809_Site1_t01_80', '031809_Site1_t01_95', '031810_Site1_t01_100', '031810_Site1_t01_98', '031810_Site1_t01_102', '031811_Site1_t01_86', '031811_Site1_t01_76', '031811_Site1_t01_96', '031812_Site1_t01_85', '031812_Site1_t01_75', '031812_Site1_t01_95', '031813_Site1_t01_76', '031813_Site1_t01_74', '031813_Site1_t01_79', '031814_Site1_t01_91', '031814_Site1_t01_86', '031814_Site1_t01_96', '031815_Site1_t01_92', '031815_Site1_t01_88', '031815_Site1_t01_96', '031816_Site1_t01_77', '031816_Site1_t01_74', '031816_Site1_t01_80', '031817_Site1_t01_86', '031817_Site1_t01_79', '031817_Site1_t01_94', '031818_Site1_t01_76', '031818_Site1_t01_70', '031818_Site1_t01_82', '031819_Site1_t01_95', '031819_Site1_t01_91', '031819_Site1_t01_100', '031820_Site1_t01_84', '031820_Site1_t01_72', '031820_Site1_t01_96', '031821_Site1_t01_84', '031821_Site1_t01_81', '031821_Site1_t01_87', '031822_Site1_t01_94', '031822_Site1_t01_89', '031822_Site1_t01_99', '031823_Site2_t01_93', '031823_Site2_t01_70', '031823_Site2_t01_117', '031824_Site2_t01_71', '031824_Site2_t01_46', '031824_Site2_t01_96', '031825_Site2_t01_88', '031825_Site2_t01_83', '031825_Site2_t01_93', '031827_Site2_t01_89', '031827_Site2_t01_73', '031827_Site2_t01_105', '031828_Site2_t01_47', '031828_Site2_t01_46', '031828_Site2_t01_49', '031829_Site2_t01_79', '031829_Site2_t01_67', '031829_Site2_t01_91', '031830_Site2_t01_46', '031830_Site2_t01_36', '031830_Site2_t01_57', '031832_Site2_t01_84', '031832_Site2_t01_58', '031832_Site2_t01_110', '031833_Site2_t01_88', '031833_Site2_t01_76', '031833_Site2_t01_100', '031834_Site2_t01_98', '031834_Site2_t01_84', '031834_Site2_t01_112', '031835_Site2_t01_127', '031835_Site2_t01_116', '031835_Site2_t01_138', '031836_Site2_t01_94', '031836_Site2_t01_81', '031836_Site2_t01_108', '031837_Site2_t01_91', '031837_Site2_t01_79', '031837_Site2_t01_104', '031838_Site2_t01_78', '031838_Site2_t01_69', '031838_Site2_t01_87', '031839_Site2_t01_38', '031839_Site2_t01_35', '031839_Site2_t01_42', '031840_Site2_t01_63', '031840_Site2_t01_61', '031840_Site2_t01_66', '031841_Site2_t01_96', '031841_Site2_t01_73', '031841_Site2_t01_120', '031842_Site2_t01_70', '031842_Site2_t01_48', '031842_Site2_t01_92', '031843_Site2_t01_69', '031843_Site2_t01_54', '031843_Site2_t01_84', '031844_Site2_t01_95', '031844_Site2_t01_77', '031844_Site2_t01_114', '031845_Site2_t01_51', '031845_Site2_t01_50', '031845_Site2_t01_53', '031846_Site2_t01_88', '031846_Site2_t01_84', '031846_Site2_t01_93', '031847_Site2_t01_81', '031847_Site2_t01_71', '031847_Site2_t01_91', '031848_Site2_t01_93', '031848_Site2_t01_87', '031848_Site2_t01_99', '031849_Site2_t01_79', '031849_Site2_t01_71', '031849_Site2_t01_87', '031850_Site2_t01_43', '031850_Site2_t01_42', '031850_Site2_t01_44', '031852_Site2_t01_103', '031852_Site2_t01_86', '031852_Site2_t01_120', '031853_Site2_t01_93', '031853_Site2_t01_77', '031853_Site2_t01_110', '031854_Site2_t01_84', '031854_Site2_t01_72', '031854_Site2_t01_96', '031855_Site2_t01_96', '031855_Site2_t01_76', '031855_Site2_t01_116', '031856_Site2_t01_80', '031856_Site2_t01_71', '031856_Site2_t01_90', '031857_Site3_t01_75', '031857_Site3_t01_66', '031857_Site3_t01_85', '031858_Site3_t01_95', '031858_Site3_t01_86', '031858_Site3_t01_105', '031859_Site3_t01_87', '031859_Site3_t01_64', '031859_Site3_t01_110', '031860_Site3_t01_85', '031860_Site3_t01_75', '031860_Site3_t01_95', '031861_Site3_t01_90', '031861_Site3_t01_74', '031861_Site3_t01_107', '031862_Site3_t01_73', '031862_Site3_t01_70', '031862_Site3_t01_77', '031863_Site3_t01_96', '031863_Site3_t01_84', '031863_Site3_t01_109', '031864_Site3_t01_34', '031864_Site3_t01_27', '031864_Site3_t01_42', '031865_Site3_t01_107', '031865_Site3_t01_81', '031865_Site3_t01_133', '031866_Site3_t01_96', '031866_Site3_t01_80', '031866_Site3_t01_112', '031867_Site3_t01_90', '031867_Site3_t01_74', '031867_Site3_t01_107', '031868_Site3_t01_95', '031868_Site3_t01_84', '031868_Site3_t01_107', '031869_Site3_t01_102', '031869_Site3_t01_100', '031869_Site3_t01_104', '031870_Site3_t01_105', '031870_Site3_t01_95', '031870_Site3_t01_116', '031871_Site3_t01_70', '031871_Site3_t01_63', '031871_Site3_t01_78', '031872_Site3_t01_41', '031872_Site3_t01_39', '031872_Site3_t01_43', '031873_Site3_t01_104', '031873_Site3_t01_94', '031873_Site3_t01_115', '031874_Site3_t01_106', '031874_Site3_t01_78', '031874_Site3_t01_135', '031875_Site3_t01_38', '031875_Site3_t01_36', '031875_Site3_t01_40', '031876_Site3_t01_86', '031876_Site3_t01_71', '031876_Site3_t01_102', '031877_Site3_t01_83', '031877_Site3_t01_58', '031877_Site3_t01_108', '031878_Site3_t01_57', '031878_Site3_t01_56', '031878_Site3_t01_59', '031879_Site3_t01_96', '031879_Site3_t01_86', '031879_Site3_t01_106', '031880_Site3_t01_49', '031880_Site3_t01_46', '031880_Site3_t01_52', '031881_Site3_t01_33', '031881_Site3_t01_30', '031881_Site3_t01_37', '031882_Site3_t01_33', '031882_Site3_t01_32', '031882_Site3_t01_35', '031883_Site3_t01_77', '031883_Site3_t01_68', '031883_Site3_t01_86', '031884_Site4_t01_85', '031884_Site4_t01_66', '031884_Site4_t01_104', '031885_Site4_t01_45', '031885_Site4_t01_41', '031885_Site4_t01_50', '031886_Site4_t01_84', '031886_Site4_t01_71', '031886_Site4_t01_98', '031887_Site4_t01_93', '031887_Site4_t01_77', '031887_Site4_t01_110', '031888_Site4_t01_36', '031888_Site4_t01_30', '031888_Site4_t01_42', '031889_Site4_t01_115', '031889_Site4_t01_113', '031889_Site4_t01_118', '031890_Site4_t01_80', '031890_Site4_t01_65', '031890_Site4_t01_96', '031891_Site4_t01_90', '031891_Site4_t01_83', '031891_Site4_t01_97', '031892_Site4_t01_102', '031892_Site4_t01_97', '031892_Site4_t01_108', '031893_Site4_t01_39', '031893_Site4_t01_37', '031893_Site4_t01_42', '031894_Site4_t01_75', '031894_Site4_t01_74', '031894_Site4_t01_76', '031895_Site4_t01_108', '031895_Site4_t01_103', '031895_Site4_t01_114', '031896_Site5_t01_81', '031896_Site5_t01_59', '031896_Site5_t01_103', '031897_Site5_t01_123', '031897_Site5_t01_109', '031897_Site5_t01_137', '031898_Site5_t01_108', '031898_Site5_t01_92', '031898_Site5_t01_125', '031899_Site5_t01_80', '031899_Site5_t01_72', '031899_Site5_t01_89', '031900_Site5_t01_82', '031900_Site5_t01_76', '031900_Site5_t01_88', '031901_Site5_t01_84', '031901_Site5_t01_72', '031901_Site5_t01_96', '031902_Site5_t01_78', '031902_Site5_t01_75', '031902_Site5_t01_81', '031903_Site5_t01_79', '031903_Site5_t01_68', '031903_Site5_t01_90', '031904_Site5_t01_91', '031904_Site5_t01_86', '031904_Site5_t01_97', '031905_Site5_t01_82', '031905_Site5_t01_78', '031905_Site5_t01_86', '031906_Site5_t01_86', '031906_Site5_t01_74', '031906_Site5_t01_99', '031907_Site5_t01_126', '031907_Site5_t01_118', '031907_Site5_t01_135', '031908_Site5_t01_114', '031908_Site5_t01_99', '031908_Site5_t01_130', '031909_Site5_t01_68', '031909_Site5_t01_49', '031909_Site5_t01_87', '031910_Site5_t01_91', '031910_Site5_t01_68', '031910_Site5_t01_115', '031911_Site5_t01_57', '031911_Site5_t01_55', '031911_Site5_t01_60', '031912_Site5_t01_73', '031912_Site5_t01_54', '031912_Site5_t01_92', '031913_Site5_t01_86', '031913_Site5_t01_81', '031913_Site5_t01_92', '031914_Site5_t01_87', '031914_Site5_t01_81', '031914_Site5_t01_93', '031915_Site5_t01_94', '031915_Site5_t01_73', '031915_Site5_t01_116', '031916_Site5_t01_94', '031916_Site5_t01_87', '031916_Site5_t01_102', '031917_Site5_t01_84', '031917_Site5_t01_69', '031917_Site5_t01_99', '031918_Site5_t01_88', '031918_Site5_t01_83', '031918_Site5_t01_93', '031919_Site5_t01_67', '031919_Site5_t01_45', '031919_Site5_t01_90', '031920_Site5_t01_98', '031920_Site5_t01_78', '031920_Site5_t01_118', '031921_Site5_t01_96', '031921_Site5_t01_85', '031921_Site5_t01_108', '031922_Site5_t01_85', '031922_Site5_t01_78', '031922_Site5_t01_92', '031923_Site6_t01_86', '031923_Site6_t01_63', '031923_Site6_t01_109', '031924_Site6_t01_81', '031924_Site6_t01_55', '031924_Site6_t01_108', '031925_Site6_t01_101', '031925_Site6_t01_80', '031925_Site6_t01_123', '031926_Site6_t01_110', '031926_Site6_t01_91', '031926_Site6_t01_130', '031927_Site6_t01_78', '031927_Site6_t01_50', '031927_Site6_t01_107', '031928_Site6_t01_84', '031928_Site6_t01_69', '031928_Site6_t01_100', '031929_Site6_t01_82', '031929_Site6_t01_65', '031929_Site6_t01_99', '031930_Site6_t01_91', '031930_Site6_t01_66', '031930_Site6_t01_117', '031931_Site6_t01_80', '031931_Site6_t01_60', '031931_Site6_t01_100', '031932_Site6_t01_78', '031932_Site6_t01_67', '031932_Site6_t01_90', '031933_Site6_t01_81', '031933_Site6_t01_55', '031933_Site6_t01_108', '031934_Site6_t01_108', '031934_Site6_t01_86', '031934_Site6_t01_130', '031935_Site6_t01_86', '031935_Site6_t01_72', '031935_Site6_t01_100', '031936_Site6_t01_81', '031936_Site6_t01_65', '031936_Site6_t01_97', '031937_Site7_t01_83', '031937_Site7_t01_65', '031937_Site7_t01_102', '031938_Site7_t01_94', '031938_Site7_t01_85', '031938_Site7_t01_103', '031939_Site7_t01_99', '031939_Site7_t01_85', '031939_Site7_t01_113', '031940_Site7_t01_82', '031940_Site7_t01_71', '031940_Site7_t01_93', '031941_Site7_t01_96', '031941_Site7_t01_78', '031941_Site7_t01_115', '031942_Site7_t01_92', '031942_Site7_t01_80', '031942_Site7_t01_105', '031943_Site7_t01_87', '031943_Site7_t01_65', '031943_Site7_t01_109', '031944_Site7_t01_95', '031944_Site7_t01_76', '031944_Site7_t01_114', '031945_Site7_t01_76', '031945_Site7_t01_51', '031945_Site7_t01_102', '031946_Site7_t01_127', '031946_Site7_t01_114', '031946_Site7_t01_140', '031947_Site7_t01_90', '031947_Site7_t01_73', '031947_Site7_t01_107', '031948_Site8_t01_113', '031948_Site8_t01_110', '031948_Site8_t01_116', '031948_Site8_t02_113', '031948_Site8_t02_110', '031948_Site8_t02_116', '031949_Site8_t01_88', '031949_Site8_t01_71', '031949_Site8_t01_106', '031950_Site8_t01_30', '031950_Site8_t01_20', '031950_Site8_t01_41', '031950_Site8_t02_29', '031950_Site8_t02_19', '031950_Site8_t02_39', '031951_Site8_t01_45', '031951_Site8_t01_41', '031951_Site8_t01_49', '031952_Site8_t01_62', '031952_Site8_t01_60', '031952_Site8_t01_65', '031952_Site8_t02_62', '031952_Site8_t02_61', '031952_Site8_t02_63', '031953_Site8_t01_83', '031953_Site8_t01_70', '031953_Site8_t01_96', '031954_Site8_t01_30', '031954_Site8_t01_28', '031954_Site8_t01_32', '031954_Site8_t02_30', '031954_Site8_t02_21', '031954_Site8_t02_40', '031955_Site8_t01_30', '031955_Site8_t01_24', '031955_Site8_t01_37', '031955_Site8_t02_23', '031955_Site8_t02_19', '031955_Site8_t02_28', '031956_Site8_t01_114', '031956_Site8_t01_111', '031956_Site8_t01_117', '031957_Site8_t01_109', '031957_Site8_t01_106', '031957_Site8_t01_113', '031957_Site8_t02_99', '031957_Site8_t02_89', '031957_Site8_t02_109', '031958_Site8_t01_101', '031958_Site8_t01_92', '031958_Site8_t01_110', '031959_Site8_t01_64', '031959_Site8_t01_51', '031959_Site8_t01_77', '031959_Site8_t02_65', '031959_Site8_t02_54', '031959_Site8_t02_76', '031960_Site8_t01_122', '031960_Site8_t01_113', '031960_Site8_t01_132', '031961_Site8_t01_69', '031961_Site8_t01_65', '031961_Site8_t01_74', '031961_Site8_t02_81', '031961_Site8_t02_73', '031961_Site8_t02_90', '031962_Site8_t01_40', '031962_Site8_t01_38', '031962_Site8_t01_42', '031963_Site8_t01_86', '031963_Site8_t01_77', '031963_Site8_t01_95', '031964_Site8_t01_84', '031964_Site8_t01_70', '031964_Site8_t01_98', '031965_Site8_t01_78', '031965_Site8_t01_76', '031965_Site8_t01_81', '031966_Site8_t01_113', '031966_Site8_t01_111', '031966_Site8_t01_115', '031967_Site8_t01_92', '031967_Site8_t01_75', '031967_Site8_t01_110', '031968_Site8_t01_91', '031968_Site8_t01_85', '031968_Site8_t01_98', '031969_Site8_t01_30', '031969_Site8_t01_22', '031969_Site8_t01_38', '031970_Site8_t01_42', '031970_Site8_t01_39', '031970_Site8_t01_45', '031971_Site8_t01_39', '031971_Site8_t01_36', '031971_Site8_t01_42', '031972_Site8_t01_59', '031972_Site8_t01_47', '031972_Site8_t01_72', '031972_Site8_t02_61', '031972_Site8_t02_52', '031972_Site8_t02_70', '031973_Site8_t01_71', '031973_Site8_t01_70', '031973_Site8_t01_72', '031974_Site9_t01_91', '031974_Site9_t01_72', '031974_Site9_t01_110', '031975_Site9_t01_85', '031975_Site9_t01_72', '031975_Site9_t01_98', '031976_Site9_t01_81', '031976_Site9_t01_52', '031976_Site9_t01_110', '031977_Site9_t01_81', '031977_Site9_t01_59', '031977_Site9_t01_104', '031978_Site9_t01_80', '031978_Site9_t01_72', '031978_Site9_t01_89', '031979_Site9_t01_89', '031979_Site9_t01_76', '031979_Site9_t01_103', '031980_Site9_t01_89', '031980_Site9_t01_62', '031980_Site9_t01_116', '031981_Site9_t01_85', '031981_Site9_t01_65', '031981_Site9_t01_106', '031982_Site9_t01_31', '031982_Site9_t01_27', '031982_Site9_t01_35', '031983_Site9_t01_92', '031983_Site9_t01_73', '031983_Site9_t01_111', '031984_Site9_t01_84', '031984_Site9_t01_68', '031984_Site9_t01_101', '031985_Site9_t01_81', '031985_Site9_t01_70', '031985_Site9_t01_93', '031986_Site9_t01_101', '031986_Site9_t01_85', '031986_Site9_t01_118', '031987_Site9_t01_89', '031987_Site9_t01_75', '031987_Site9_t01_104']\n"
     ]
    }
   ],
   "source": [
    "df = pd.read_csv(\"../data/Stroke_Subjects_20200123/ATLAS_stroke_labels_20200122.csv\")\n",
    "\n",
    "filenames = df[df['label'] == 1]['filename'].tolist()\n",
    "\n",
    "print(filenames)"
   ]
  },
  {
   "cell_type": "code",
   "execution_count": 167,
   "metadata": {},
   "outputs": [],
   "source": [
    "#Add images in train and assets to image log\n",
    "\n",
    "con = sqlite3.connect(\"active_learning_20191210.db\")\n",
    "cur = con.cursor()\n",
    "\n",
    "now = datetime.now()\n",
    "cur_date = str(now.year) + '_' + str(now.month) + '_' + str(\n",
    "            now.day) + '_' + str(now.hour) + '_' + str(now.minute)\n",
    "\n",
    "for filename in filenames:\n",
    "    \n",
    "    #file_path is relative to app.py!!!\n",
    "    image_path = \"data/train/image/\" + filename + '.npy'\n",
    "    image_log_entry = (image_path, cur_date)\n",
    "    cur.execute('INSERT INTO image_log (file_path, time_uploaded) VALUES' + str(image_log_entry))\n",
    "    image_id = cur.lastrowid\n",
    "    \n",
    "    map_path = \"data/train/label/\" + filename\n",
    "    #Image and its corresponding lable have the same file_path/filename\n",
    "    map_log_entry = (map_path, cur_date, False)\n",
    "    cur.execute('INSERT INTO map_log (file_path, time_created, is_manual) VALUES' + str(map_log_entry))\n",
    "    map_id = cur.lastrowid\n",
    "    \n",
    "    #Update image-to-map log \n",
    "    cur.execute('INSERT INTO image_to_map_log (image_id, map_id) VALUES' + str((image_id, map_id)))\n",
    "                \n",
    "con.commit()\n",
    "con.close()"
   ]
  },
  {
   "cell_type": "code",
   "execution_count": 3,
   "metadata": {},
   "outputs": [
    {
     "data": {
      "text/html": [
       "<div>\n",
       "<style scoped>\n",
       "    .dataframe tbody tr th:only-of-type {\n",
       "        vertical-align: middle;\n",
       "    }\n",
       "\n",
       "    .dataframe tbody tr th {\n",
       "        vertical-align: top;\n",
       "    }\n",
       "\n",
       "    .dataframe thead th {\n",
       "        text-align: right;\n",
       "    }\n",
       "</style>\n",
       "<table border=\"1\" class=\"dataframe\">\n",
       "  <thead>\n",
       "    <tr style=\"text-align: right;\">\n",
       "      <th></th>\n",
       "      <th>image_id</th>\n",
       "      <th>metric</th>\n",
       "      <th>file_path</th>\n",
       "      <th>time_uploaded</th>\n",
       "    </tr>\n",
       "  </thead>\n",
       "  <tbody>\n",
       "    <tr>\n",
       "      <td>0</td>\n",
       "      <td>1</td>\n",
       "      <td>0.0</td>\n",
       "      <td>data/train/image/031768_Site1_t01_98.npy</td>\n",
       "      <td>2020_3_14_11_24</td>\n",
       "    </tr>\n",
       "    <tr>\n",
       "      <td>1</td>\n",
       "      <td>2</td>\n",
       "      <td>0.0</td>\n",
       "      <td>data/train/image/031768_Site1_t01_94.npy</td>\n",
       "      <td>2020_3_14_11_24</td>\n",
       "    </tr>\n",
       "    <tr>\n",
       "      <td>2</td>\n",
       "      <td>3</td>\n",
       "      <td>0.0</td>\n",
       "      <td>data/train/image/031768_Site1_t01_102.npy</td>\n",
       "      <td>2020_3_14_11_24</td>\n",
       "    </tr>\n",
       "    <tr>\n",
       "      <td>3</td>\n",
       "      <td>4</td>\n",
       "      <td>0.0</td>\n",
       "      <td>data/train/image/031769_Site1_t01_74.npy</td>\n",
       "      <td>2020_3_14_11_24</td>\n",
       "    </tr>\n",
       "    <tr>\n",
       "      <td>4</td>\n",
       "      <td>5</td>\n",
       "      <td>0.0</td>\n",
       "      <td>data/train/image/031769_Site1_t01_67.npy</td>\n",
       "      <td>2020_3_14_11_24</td>\n",
       "    </tr>\n",
       "    <tr>\n",
       "      <td>...</td>\n",
       "      <td>...</td>\n",
       "      <td>...</td>\n",
       "      <td>...</td>\n",
       "      <td>...</td>\n",
       "    </tr>\n",
       "    <tr>\n",
       "      <td>673</td>\n",
       "      <td>674</td>\n",
       "      <td>0.0</td>\n",
       "      <td>data/train/image/031986_Site9_t01_85.npy</td>\n",
       "      <td>2020_3_14_11_24</td>\n",
       "    </tr>\n",
       "    <tr>\n",
       "      <td>674</td>\n",
       "      <td>675</td>\n",
       "      <td>0.0</td>\n",
       "      <td>data/train/image/031986_Site9_t01_118.npy</td>\n",
       "      <td>2020_3_14_11_24</td>\n",
       "    </tr>\n",
       "    <tr>\n",
       "      <td>675</td>\n",
       "      <td>676</td>\n",
       "      <td>0.0</td>\n",
       "      <td>data/train/image/031987_Site9_t01_89.npy</td>\n",
       "      <td>2020_3_14_11_24</td>\n",
       "    </tr>\n",
       "    <tr>\n",
       "      <td>676</td>\n",
       "      <td>677</td>\n",
       "      <td>0.0</td>\n",
       "      <td>data/train/image/031987_Site9_t01_75.npy</td>\n",
       "      <td>2020_3_14_11_24</td>\n",
       "    </tr>\n",
       "    <tr>\n",
       "      <td>677</td>\n",
       "      <td>678</td>\n",
       "      <td>0.0</td>\n",
       "      <td>data/train/image/031987_Site9_t01_104.npy</td>\n",
       "      <td>2020_3_14_11_24</td>\n",
       "    </tr>\n",
       "  </tbody>\n",
       "</table>\n",
       "<p>678 rows × 4 columns</p>\n",
       "</div>"
      ],
      "text/plain": [
       "     image_id  metric                                  file_path  \\\n",
       "0           1     0.0   data/train/image/031768_Site1_t01_98.npy   \n",
       "1           2     0.0   data/train/image/031768_Site1_t01_94.npy   \n",
       "2           3     0.0  data/train/image/031768_Site1_t01_102.npy   \n",
       "3           4     0.0   data/train/image/031769_Site1_t01_74.npy   \n",
       "4           5     0.0   data/train/image/031769_Site1_t01_67.npy   \n",
       "..        ...     ...                                        ...   \n",
       "673       674     0.0   data/train/image/031986_Site9_t01_85.npy   \n",
       "674       675     0.0  data/train/image/031986_Site9_t01_118.npy   \n",
       "675       676     0.0   data/train/image/031987_Site9_t01_89.npy   \n",
       "676       677     0.0   data/train/image/031987_Site9_t01_75.npy   \n",
       "677       678     0.0  data/train/image/031987_Site9_t01_104.npy   \n",
       "\n",
       "       time_uploaded  \n",
       "0    2020_3_14_11_24  \n",
       "1    2020_3_14_11_24  \n",
       "2    2020_3_14_11_24  \n",
       "3    2020_3_14_11_24  \n",
       "4    2020_3_14_11_24  \n",
       "..               ...  \n",
       "673  2020_3_14_11_24  \n",
       "674  2020_3_14_11_24  \n",
       "675  2020_3_14_11_24  \n",
       "676  2020_3_14_11_24  \n",
       "677  2020_3_14_11_24  \n",
       "\n",
       "[678 rows x 4 columns]"
      ]
     },
     "metadata": {},
     "output_type": "display_data"
    },
    {
     "name": "stdout",
     "output_type": "stream",
     "text": [
      "36\n",
      "data/train/image/031780_Site1_t01_90.npy\n"
     ]
    }
   ],
   "source": [
    "# Check if entries were added correctly\n",
    "# Read sqlite query results into a pandas DataFrame\n",
    "con = sqlite3.connect(\"active_learning_20191210.db\")\n",
    "img_df = pd.read_sql_query(\"SELECT * from image_log\", con)\n",
    "\n",
    "# Verify that result of SQL query is stored in the dataframe\n",
    "display(img_df)\n",
    "\n",
    "index = img_df[img_df['image_id'] == 37].index.values.astype(int)[0]\n",
    "print(index)\n",
    "print(img_df.iloc[index]['file_path'])\n",
    "\n",
    "con.close()"
   ]
  },
  {
   "cell_type": "code",
   "execution_count": 150,
   "metadata": {},
   "outputs": [
    {
     "name": "stdout",
     "output_type": "stream",
     "text": [
      "679\n"
     ]
    }
   ],
   "source": [
    "print(len(img_df))"
   ]
  },
  {
   "cell_type": "code",
   "execution_count": 200,
   "metadata": {},
   "outputs": [
    {
     "name": "stdout",
     "output_type": "stream",
     "text": [
      "      map_id                                  file_path     time_created  \\\n",
      "0          1       data/train/label/031768_Site1_t01_98  2020_2_19_12_47   \n",
      "1          2       data/train/label/031768_Site1_t01_94  2020_2_19_12_47   \n",
      "2          3      data/train/label/031768_Site1_t01_102  2020_2_19_12_47   \n",
      "3          4       data/train/label/031769_Site1_t01_74  2020_2_19_12_47   \n",
      "4          5       data/train/label/031769_Site1_t01_67  2020_2_19_12_47   \n",
      "...      ...                                        ...              ...   \n",
      "1591    1592  output/2020_2_20_21_54/674_prediction.npy  2020_2_20_21_54   \n",
      "1592    1593  output/2020_2_20_21_54/675_prediction.npy  2020_2_20_21_54   \n",
      "1593    1594  output/2020_2_20_21_54/676_prediction.npy  2020_2_20_21_54   \n",
      "1594    1595  output/2020_2_20_21_54/677_prediction.npy  2020_2_20_21_54   \n",
      "1595    1596  output/2020_2_20_21_54/678_prediction.npy  2020_2_20_21_54   \n",
      "\n",
      "      is_manual  \n",
      "0             0  \n",
      "1             0  \n",
      "2             0  \n",
      "3             0  \n",
      "4             0  \n",
      "...         ...  \n",
      "1591          0  \n",
      "1592          0  \n",
      "1593          0  \n",
      "1594          0  \n",
      "1595          0  \n",
      "\n",
      "[1596 rows x 4 columns]\n"
     ]
    }
   ],
   "source": [
    "con = sqlite3.connect(\"active_learning_20191210.db\")\n",
    "map_df = pd.read_sql_query(\"SELECT * from map_log\", con)\n",
    "\n",
    "# Verify that result of SQL query is stored in the dataframe\n",
    "print(map_df)\n",
    "\n",
    "con.close()"
   ]
  },
  {
   "cell_type": "code",
   "execution_count": 201,
   "metadata": {},
   "outputs": [
    {
     "name": "stdout",
     "output_type": "stream",
     "text": [
      "      entry_id  image_id  map_id\n",
      "0            1         1       1\n",
      "1            2         2       2\n",
      "2            3         3       3\n",
      "3            4         4       4\n",
      "4            5         5       5\n",
      "...        ...       ...     ...\n",
      "1591      1592       674    1592\n",
      "1592      1593       675    1593\n",
      "1593      1594       676    1594\n",
      "1594      1595       677    1595\n",
      "1595      1596       678    1596\n",
      "\n",
      "[1596 rows x 3 columns]\n"
     ]
    }
   ],
   "source": [
    "con = sqlite3.connect(\"active_learning_20191210.db\")\n",
    "img2map_df = pd.read_sql_query(\"SELECT * from image_to_map_log\", con)\n",
    "\n",
    "# Verify that result of SQL query is stored in the dataframe\n",
    "print(img2map_df)\n",
    "\n",
    "con.close()"
   ]
  },
  {
   "cell_type": "code",
   "execution_count": 202,
   "metadata": {},
   "outputs": [
    {
     "name": "stdout",
     "output_type": "stream",
     "text": [
      "[674, 1592]\n",
      "     map_id                             file_path     time_created  is_manual\n",
      "673     674  data/train/label/031986_Site9_t01_85  2020_2_19_12_47          0\n",
      "      map_id                                  file_path     time_created  \\\n",
      "1591    1592  output/2020_2_20_21_54/674_prediction.npy  2020_2_20_21_54   \n",
      "\n",
      "      is_manual  \n",
      "1591          0  \n"
     ]
    }
   ],
   "source": [
    "map_ids = img2map_df[img2map_df['image_id'] == 674]['map_id']\n",
    "map_ids = map_ids.tolist()\n",
    "print(map_ids)\n",
    "\n",
    "for map_id in map_ids: \n",
    "    selected_map_df = map_df[map_df['map_id'] == map_id]\n",
    "    sorted_map_df = selected_map_df.sort_values('time_created', ascending=False)\n",
    "    print(sorted_map_df)\n",
    "    "
   ]
  },
  {
   "cell_type": "code",
   "execution_count": 156,
   "metadata": {},
   "outputs": [
    {
     "name": "stdout",
     "output_type": "stream",
     "text": [
      "     entry_id  image_id  map_id\n",
      "0           1         1       1\n",
      "1           2         2       2\n",
      "2           3         3       3\n",
      "3           4         4       4\n",
      "4           5         5       5\n",
      "..        ...       ...     ...\n",
      "704       705       347     705\n",
      "705       706       572     706\n",
      "706       707        87     707\n",
      "707       708       167     708\n",
      "708       709       668     709\n",
      "\n",
      "[709 rows x 3 columns]\n"
     ]
    }
   ],
   "source": []
  },
  {
   "cell_type": "code",
   "execution_count": 157,
   "metadata": {},
   "outputs": [
    {
     "name": "stdout",
     "output_type": "stream",
     "text": [
      "   training_id                  training_time  \\\n",
      "0            1  Wed, 19 Feb 2020 12:03:24 GMT   \n",
      "1            2  Wed, 19 Feb 2020 12:19:30 GMT   \n",
      "\n",
      "                                      file_path  from_scratch  \n",
      "0   models/unet_stroke_2020_2_19_12_3_init.hdf5             1  \n",
      "1  models/unet_stroke_2020_2_19_12_19_init.hdf5             1  \n"
     ]
    }
   ],
   "source": [
    "# Read sqlite query results into a pandas DataFrame\n",
    "con = sqlite3.connect(\"active_learning_20191210.db\")\n",
    "df = pd.read_sql_query(\"SELECT * from training_log\", con)\n",
    "\n",
    "# Verify that result of SQL query is stored in the dataframe\n",
    "print(df.head())\n",
    "\n",
    "con.close()"
   ]
  },
  {
   "cell_type": "code",
   "execution_count": 158,
   "metadata": {},
   "outputs": [
    {
     "name": "stdout",
     "output_type": "stream",
     "text": [
      "    entry_id  image_id  training_id\n",
      "0          1       102            1\n",
      "1          2        61            1\n",
      "2          3       543            1\n",
      "3          4       654            1\n",
      "4          5       458            1\n",
      "5          6       183            1\n",
      "6          7       593            1\n",
      "7          8       149            1\n",
      "8          9       137            1\n",
      "9         10       413            1\n",
      "10        11       247            2\n",
      "11        12       260            2\n",
      "12        13       375            2\n",
      "13        14       363            2\n",
      "14        15       140            2\n",
      "15        16       347            2\n",
      "16        17       572            2\n",
      "17        18        87            2\n",
      "18        19       167            2\n",
      "19        20       668            2\n"
     ]
    }
   ],
   "source": [
    "con = sqlite3.connect(\"active_learning_20191210.db\")\n",
    "\n",
    "df = pd.read_sql_query(\"SELECT * from train_to_image_log\", con)\n",
    "\n",
    "# Verify that result of SQL query is stored in the dataframe\n",
    "print(df)\n",
    "\n",
    "con.close()"
   ]
  },
  {
   "cell_type": "markdown",
   "metadata": {},
   "source": [
    "## Input into tables"
   ]
  },
  {
   "cell_type": "code",
   "execution_count": 77,
   "metadata": {},
   "outputs": [],
   "source": [
    "#Function to prep the columns for the SQL query\n",
    "def prep_cols(cols):\n",
    "    \n",
    "    #init string\n",
    "    final_str = ''\n",
    "    \n",
    "    #loop through columns and construct string\n",
    "    for i in cols:\n",
    "        final_str = final_str + i + ','\n",
    "        \n",
    "    #return\n",
    "    return final_str[:-1]"
   ]
  },
  {
   "cell_type": "code",
   "execution_count": 86,
   "metadata": {},
   "outputs": [],
   "source": [
    "def create_entry(conn, table_name, task):\n",
    "    \"\"\"\n",
    "    Create a new entry\n",
    "    :param conn:\n",
    "    :param task:\n",
    "    :return:\n",
    "    \"\"\"\n",
    "    \n",
    "    #Read in table\n",
    "    df = pd.read_sql_query(\"SELECT * from \" + db_name + \" \", conn)\n",
    "\n",
    "    #get list of columns\n",
    "    columns = list(df.columns)\n",
    "\n",
    "    #Construct sql query\n",
    "    sql = ' INSERT INTO ' + db_name + '(' + prep_cols(columns) + ')'  + ' VALUES(?, ?, ?, ?) '\n",
    "\n",
    "#     sql = ''' INSERT INTO training_log(training_id, training_time, file_path, from_scratch) VALUES(?, ?, ?, ?) '''\n",
    "\n",
    "    #execute\n",
    "    cur = conn.cursor()\n",
    "    cur.execute(sql, task)\n",
    "    return cur.lastrowid\n",
    "\n",
    "\n",
    "def main():\n",
    "    \n",
    "    #Database name\n",
    "    database = \"active_learning_20191210.db\"\n",
    " \n",
    "    # create a database connection\n",
    "    conn = create_connection(database)\n",
    "    with conn:\n",
    "        \n",
    "        # Specific table and inputs\n",
    "        table_name = 'training_log'\n",
    "        task_1 = ('10002', '12/10/2019', 'example/file/path', True)\n",
    " \n",
    "        # create entry\n",
    "        create_entry(conn, table_name, task_1)\n",
    "        \n",
    "    conn.close()\n"
   ]
  },
  {
   "cell_type": "code",
   "execution_count": 87,
   "metadata": {},
   "outputs": [],
   "source": [
    "main()"
   ]
  },
  {
   "cell_type": "code",
   "execution_count": 88,
   "metadata": {},
   "outputs": [
    {
     "name": "stdout",
     "output_type": "stream",
     "text": [
      "   training_id training_time          file_path  from_scratch\n",
      "0          100    12/10/2019  example/filt/path             1\n",
      "1        10000    12/10/2019  example/file/path             1\n",
      "2        10001    12/10/2019  example/file/path             1\n",
      "3        10002    12/10/2019  example/file/path             1\n"
     ]
    }
   ],
   "source": [
    "# Read sqlite query results into a pandas DataFrame\n",
    "con = sqlite3.connect(\"active_learning_20191210.db\")\n",
    "df = pd.read_sql_query(\"SELECT * from training_log\", con)\n",
    "\n",
    "# Verify that result of SQL query is stored in the dataframe\n",
    "print(df.head())\n",
    "\n",
    "con.close()"
   ]
  },
  {
   "cell_type": "markdown",
   "metadata": {},
   "source": [
    "## Delete Row"
   ]
  },
  {
   "cell_type": "code",
   "execution_count": 41,
   "metadata": {},
   "outputs": [
    {
     "name": "stdout",
     "output_type": "stream",
     "text": [
      "Connected to SQLite\n",
      "Record deleted successfully \n",
      "the sqlite connection is closed\n"
     ]
    }
   ],
   "source": [
    "def deleteRecord():\n",
    "    try:\n",
    "        con = sqlite3.connect('active_learning_20191210.db')\n",
    "        cursor = con.cursor()\n",
    "        print(\"Connected to SQLite\")\n",
    "\n",
    "        # Deleting single record now\n",
    "        sql_delete_query = \"\"\"DELETE from training_log where training_id = 0\"\"\"\n",
    "        cursor.execute(sql_delete_query)\n",
    "        con.commit()\n",
    "        print(\"Record deleted successfully \")\n",
    "        cursor.close()\n",
    "\n",
    "    except sqlite3.Error as error:\n",
    "        print(\"Failed to delete record from sqlite table\", error)\n",
    "    finally:\n",
    "        if (con):\n",
    "            con.close()\n",
    "            print(\"the sqlite connection is closed\")\n",
    "\n",
    "deleteRecord()"
   ]
  },
  {
   "cell_type": "code",
   "execution_count": 42,
   "metadata": {},
   "outputs": [
    {
     "name": "stdout",
     "output_type": "stream",
     "text": [
      "   training_id training_time          file_path  from_scratch\n",
      "0          100    12/10/2019  example/filt/path             1\n",
      "1        10000    12/10/2019  example/file/path             1\n"
     ]
    }
   ],
   "source": [
    "# Read sqlite query results into a pandas DataFrame\n",
    "con = sqlite3.connect(\"active_learning_20191210.db\")\n",
    "df = pd.read_sql_query(\"SELECT * from training_log\", con)\n",
    "\n",
    "# Verify that result of SQL query is stored in the dataframe\n",
    "print(df.head())\n",
    "\n",
    "con.close()"
   ]
  },
  {
   "cell_type": "code",
   "execution_count": null,
   "metadata": {},
   "outputs": [],
   "source": []
  }
 ],
 "metadata": {
  "kernelspec": {
   "display_name": "Python 3",
   "language": "python",
   "name": "python3"
  },
  "language_info": {
   "codemirror_mode": {
    "name": "ipython",
    "version": 3
   },
   "file_extension": ".py",
   "mimetype": "text/x-python",
   "name": "python",
   "nbconvert_exporter": "python",
   "pygments_lexer": "ipython3",
   "version": "3.7.4"
  }
 },
 "nbformat": 4,
 "nbformat_minor": 4
}
